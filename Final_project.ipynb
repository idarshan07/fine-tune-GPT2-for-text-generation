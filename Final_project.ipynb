{
 "cells": [
  {
   "attachments": {},
   "cell_type": "markdown",
   "id": "d6f5af1c",
   "metadata": {
    "id": "d6f5af1c"
   },
   "source": [
    "## Project : Fine tuning of GPT-2 for Text Generation"
   ]
  },
  {
   "attachments": {},
   "cell_type": "markdown",
   "id": "52102e24",
   "metadata": {},
   "source": [
    "## Problem Statement\n",
    "\n",
    "\n",
    "### Algorithms in the field of Artificial Intelligence are being developed rapidly and there are many large language models available right now for multiple purposes. These models are trained on a very large corpus of datasets from various fields and subjects. What if we want to use it for any one purpose? Training a new model for a specific purpose and field requires a very large dataset, time and huge computational power. Solution to this problem is fine-tuning of pretrained large models. Fine-tuning means to train a pre-trained model further using a dataset of specific context or domain. This solution will be demonstrated and explored in this project.\n"
   ]
  },
  {
   "attachments": {},
   "cell_type": "markdown",
   "id": "c0eeb8b5",
   "metadata": {},
   "source": [
    "## Aim\n",
    "\n",
    "### This project aims to fine tune a large language model on Harry Potter books dataset in a way that it can generate text related to Harry Potter books and movies from the provided prompt. Hyperparameters learning rate and epochs will be explored after fine tuning of the model."
   ]
  },
  {
   "cell_type": "code",
   "execution_count": 2,
   "id": "8238cc7b",
   "metadata": {
    "id": "8238cc7b"
   },
   "outputs": [],
   "source": [
    "#!pip install transformers xformers accelerate\n",
    "import torch\n",
    "import re\n",
    "from tqdm import tqdm\n",
    "from torch.utils.data import DataLoader, Dataset\n",
    "from transformers import GPT2LMHeadModel, GPT2Tokenizer\n",
    "from torch.optim import AdamW\n",
    "from transformers import Trainer, TrainingArguments\n",
    "from transformers import TextDataset, DataCollatorForLanguageModeling\n",
    "from transformers import pipeline, set_seed\n",
    "import matplotlib.pyplot as plt\n",
    "%matplotlib inline"
   ]
  },
  {
   "attachments": {},
   "cell_type": "markdown",
   "id": "c495ea0f",
   "metadata": {
    "id": "c495ea0f"
   },
   "source": [
    "## Model Selection\n",
    "\n",
    "### GPT-2 (Generative pretrained transformer) open source model by OpenAi will be used in this project. It was trained on a corpus of ~40 GB of text data. It is a large language model with 1.5 billion parameters with the objective to predict the next word from given words as a prompt and that is why this model is perfect to explore as it aligns with the project goal.\n"
   ]
  },
  {
   "attachments": {},
   "cell_type": "markdown",
   "id": "a66b1f1a",
   "metadata": {},
   "source": [
    "#### In the cell below, GPT2 model is used before fine tuning for text generation using prompt word \"Harry\". As we can see generated text is not related to Harry Potter. "
   ]
  },
  {
   "cell_type": "code",
   "execution_count": null,
   "id": "YGdTk7zUVeGS",
   "metadata": {
    "colab": {
     "base_uri": "https://localhost:8080/",
     "height": 298,
     "referenced_widgets": [
      "ce057a6b4c2b4f9f80bb3c8b660c89f3",
      "21e71575ee3d420e9631d2c3de2aa20d",
      "a0d143a6cc2241dfbd02badc6aa1e09e",
      "2434567e33e84977a029b1658a8bd679",
      "c956f2d9388c4a03929c3243ac7caa56",
      "a4375b4a66dc40dbb6018dd77c6e5d74",
      "c7d37106d60b4aa58f0e9fdf07093497",
      "c7eef3e139f844d2a24994b805e2a7e8",
      "f0d3ed603fde4fed9b4fac7727c8b5f1",
      "8efbdae5975648aa8126c51a15ab4689",
      "fb43975c59904fb788a7be63f56168fd",
      "5992bd1e96a64febb17f4cef86fec248",
      "f204e6ff280741adb9b95f74e8419c30",
      "4781e81614f14e3bb8719f8211278c82",
      "66f1048288c642ce97cf23f62a01250d",
      "0ea8dcb0d4c64390b7178cddcb1598ee",
      "5f0270c8749f40d08fde1a3d0cd5e3e0",
      "0a0ec6e272714502af8b61fa11bd9e72",
      "50a0c9b276dc4207b6cff26e43598374",
      "3ada8125ab50465e9b0223385fc8359b",
      "55c26c326bc149fda88db432fe91882b",
      "ff1f06e2cb6540d7b176646ff8337428",
      "3743f1ac6cc14cc180e94c425faa980a",
      "a03dc40261bb40378c39d1c839b3feb7",
      "4fcc675ac05246e3a48fb5e297f159b5",
      "e2343dc95a2c4d329fc58aaec629ab14",
      "6d1374883b394fbb983913ae0e6b9816",
      "3f6fe5ab4081468db79ce913b6a386cc",
      "487598fbe67d4ed2a7bb1afdbb3917d1",
      "68587b5fd0454d33a1699dc71ef0dbee",
      "7a5e230756aa40848c615b1700894bb8",
      "b0ebb03b87574c889becc099c9f1f4bf",
      "2c35fa729cc34ac7b02fc67612f275c7",
      "26d7fc2cb8444bf2b049ed3db30cea28",
      "ec9577bb1470481887712cf0bc3ff34e",
      "89b5173a4bfa4495806b4827ab70a047",
      "63b3411ab85f4c8b9c8c54bbf31bd015",
      "cf11b6b7ceab45eea6abe1c12dd08ac2",
      "355b44689b6340c692c0969b73da9619",
      "f5d7b0a960604cb8932dbd83881bc170",
      "930c99fd89fe40e08c3359d7127030a7",
      "218667d6f8d54600a202e64493853ddd",
      "c4dc4b21a9b1443687c519bd685122d1",
      "8c3678af621b4dea8ee95a6445caa348",
      "1c82b5894e104256b9a66ab2120a884f",
      "3de4b5230d234d94b4764d9335f385d0",
      "eb0b1b5cdc4a4d618659a5e82d238fe4",
      "adfeb43799534a7eaeef7209dc92496a",
      "d3b4af4b7e274b19b734eecf7b50c3d7",
      "a1b52da2a2f14b9094a3ea7b4b7bce26",
      "1590f17082ae4b2987351c5a4756fd2a",
      "9af6afcead684057adb693c2a6d4d320",
      "01af6b7122f94b9f92853de3f80a3aad",
      "67c08397b8aa4c7da958e9ec244366bc",
      "4ddcf8ff3dd04ed2bd5e14ba031e80f0",
      "33fff3f80af14f7f9958e12c5c98f348",
      "8b0708da99cd4da3a6da82cb35ce201d",
      "ae62dfc3f5aa4912ab890213eee722a0",
      "2a13413908f24ca8ae6da6b0f3bd8508",
      "6bc06ec297e745729948ddc96765d0b1",
      "d23d18b6f5e14862a612eb622eaf2eb2",
      "893222e9fdb54738ac56b04c0b553e5a",
      "12e4349e1f224c32b35afb738c584c89",
      "5221011e370c4a46ba1b037492e881d4",
      "de701273cea0494f9c412d5facb2295a",
      "39462eed46564c6c9a862d9c3e974e86"
     ]
    },
    "id": "YGdTk7zUVeGS",
    "outputId": "fd43da89-3053-4b10-fa69-6ff43badb223"
   },
   "outputs": [
    {
     "data": {
      "application/vnd.jupyter.widget-view+json": {
       "model_id": "ce057a6b4c2b4f9f80bb3c8b660c89f3",
       "version_major": 2,
       "version_minor": 0
      },
      "text/plain": [
       "Downloading (…)lve/main/config.json:   0%|          | 0.00/665 [00:00<?, ?B/s]"
      ]
     },
     "metadata": {},
     "output_type": "display_data"
    },
    {
     "data": {
      "application/vnd.jupyter.widget-view+json": {
       "model_id": "5992bd1e96a64febb17f4cef86fec248",
       "version_major": 2,
       "version_minor": 0
      },
      "text/plain": [
       "Downloading pytorch_model.bin:   0%|          | 0.00/548M [00:00<?, ?B/s]"
      ]
     },
     "metadata": {},
     "output_type": "display_data"
    },
    {
     "data": {
      "application/vnd.jupyter.widget-view+json": {
       "model_id": "3743f1ac6cc14cc180e94c425faa980a",
       "version_major": 2,
       "version_minor": 0
      },
      "text/plain": [
       "Downloading (…)neration_config.json:   0%|          | 0.00/124 [00:00<?, ?B/s]"
      ]
     },
     "metadata": {},
     "output_type": "display_data"
    },
    {
     "data": {
      "application/vnd.jupyter.widget-view+json": {
       "model_id": "26d7fc2cb8444bf2b049ed3db30cea28",
       "version_major": 2,
       "version_minor": 0
      },
      "text/plain": [
       "Downloading (…)olve/main/vocab.json:   0%|          | 0.00/1.04M [00:00<?, ?B/s]"
      ]
     },
     "metadata": {},
     "output_type": "display_data"
    },
    {
     "data": {
      "application/vnd.jupyter.widget-view+json": {
       "model_id": "1c82b5894e104256b9a66ab2120a884f",
       "version_major": 2,
       "version_minor": 0
      },
      "text/plain": [
       "Downloading (…)olve/main/merges.txt:   0%|          | 0.00/456k [00:00<?, ?B/s]"
      ]
     },
     "metadata": {},
     "output_type": "display_data"
    },
    {
     "data": {
      "application/vnd.jupyter.widget-view+json": {
       "model_id": "33fff3f80af14f7f9958e12c5c98f348",
       "version_major": 2,
       "version_minor": 0
      },
      "text/plain": [
       "Downloading (…)/main/tokenizer.json:   0%|          | 0.00/1.36M [00:00<?, ?B/s]"
      ]
     },
     "metadata": {},
     "output_type": "display_data"
    },
    {
     "name": "stderr",
     "output_type": "stream",
     "text": [
      "Setting `pad_token_id` to `eos_token_id`:50256 for open-end generation.\n"
     ]
    },
    {
     "data": {
      "text/plain": [
       "[{'generated_text': 'Harry had shown no interest in the issue of sex trafficking in his own name. Rather, he was the only one of the four members of the party'},\n",
       " {'generated_text': 'Harry was like, \"Uh, there\\'s nothing to keep me from writing it?\" \"I can find a way to tell you that, right here'}]"
      ]
     },
     "execution_count": 2,
     "metadata": {},
     "output_type": "execute_result"
    }
   ],
   "source": [
    "# Generate text example using gpt2 model\n",
    "generator = pipeline('text-generation', model='gpt2')\n",
    "set_seed(101)\n",
    "generator(\"Harry\", max_length=30, num_return_sequences=2)\n"
   ]
  },
  {
   "attachments": {},
   "cell_type": "markdown",
   "id": "70308d10",
   "metadata": {
    "id": "70308d10"
   },
   "source": [
    "## Data Collection and Preprocessing\n",
    "\n",
    "### Data was collected from a github repository. As we are fine tuning a model for text generation, the entire data is in text format containing text script of seven books of Harry Potter series. “Re\" module of Python was used to preprocess the text dataset as defined steps below: \n",
    "1. All values except alphabetic character, numeric, white space or underscore were removed from text.\n",
    "2. Any multiple consecutive whitespaces were replaced with just one whitespace.\n",
    "3. Any leading or trailing whitespace was removed from the text dataset.\n",
    "### This preprocessed dataset was stored in a single text file for further use.\n"
   ]
  },
  {
   "cell_type": "code",
   "execution_count": 3,
   "id": "539e6c56",
   "metadata": {
    "id": "539e6c56"
   },
   "outputs": [],
   "source": [
    "#Data Loading and Data Cleaning\n",
    "script_files = [\"./data/Book 1.txt\",\"./data/Book 2.txt\",\"./data/Book 3.txt\",\"./data/Book 4.txt\",\"./data/Book 5.txt\",\n",
    "                \"./data/Book 6.txt\",\"./data/Book 7.txt\"]\n",
    "text_data=\"\"\n",
    "for script in script_files:\n",
    "    with open(script, 'r', encoding='utf-8') as file:\n",
    "        text = file.read()\n",
    "        text = re.sub(r\"[^\\w\\s]\", \"\", text)\n",
    "        text = re.sub(r\"\\s+\", \" \", text)\n",
    "        text_data=text_data+text\n",
    "        text_data = text_data.strip()\n",
    "        file.close()\n",
    "#Save cleaned data in a text file\n",
    "data_file = open('./data/cleaned_text_data.txt', 'w')\n",
    "data_file.write(text_data)\n",
    "data_file.close()"
   ]
  },
  {
   "cell_type": "code",
   "execution_count": 4,
   "id": "33355668",
   "metadata": {
    "id": "33355668"
   },
   "outputs": [],
   "source": [
    "#Location of cleaned data\n",
    "data_file='./data/cleaned_text_data.txt'"
   ]
  },
  {
   "cell_type": "code",
   "execution_count": 5,
   "id": "120217c7",
   "metadata": {
    "colab": {
     "base_uri": "https://localhost:8080/"
    },
    "id": "120217c7",
    "outputId": "c30591da-8a51-4dd3-d1a4-435ce69f29a6",
    "scrolled": true
   },
   "outputs": [
    {
     "data": {
      "text/plain": [
       "6182371"
      ]
     },
     "execution_count": 5,
     "metadata": {},
     "output_type": "execute_result"
    }
   ],
   "source": [
    "#Size of text data\n",
    "len(text_data)"
   ]
  },
  {
   "cell_type": "code",
   "execution_count": null,
   "id": "2b111ee9",
   "metadata": {
    "colab": {
     "base_uri": "https://localhost:8080/"
    },
    "id": "2b111ee9",
    "outputId": "fda498cf-d41d-4f32-f315-d4d897b38c0c",
    "scrolled": true
   },
   "outputs": [
    {
     "name": "stderr",
     "output_type": "stream",
     "text": [
      "/usr/local/lib/python3.10/dist-packages/transformers/data/datasets/language_modeling.py:53: FutureWarning: This dataset will be removed from the library soon, preprocessing should be handled with the 🤗 Datasets library. You can have a look at this example script for pointers: https://github.com/huggingface/transformers/blob/main/examples/pytorch/language-modeling/run_mlm.py\n",
      "  warnings.warn(\n"
     ]
    }
   ],
   "source": [
    "#Load the tokenizer for GPT2 model\n",
    "tokenizer = GPT2Tokenizer.from_pretrained(\"gpt2\")\n",
    "#Tokenize the dataset\n",
    "dataset = TextDataset(tokenizer=tokenizer,file_path=data_file,block_size=128)\n",
    "\n",
    "data_collator = DataCollatorForLanguageModeling(tokenizer=tokenizer,mlm=False)\n",
    "## This block of code will be included in defined functions below."
   ]
  },
  {
   "attachments": {},
   "cell_type": "markdown",
   "id": "092db125",
   "metadata": {
    "id": "092db125"
   },
   "source": [
    "## Define Required Functions\n",
    "\n",
    "### Various Class and functions of transformers libraries were used to tokenize and load the dataset to fine tune the model. GPT2Tokenizer was used to tokenize the pre-processed text data. Tokenizations break down text data into tokens which are input for the model in the training process and that is why it is a crucial step in natural language processing tasks. GPT-2 model was loaded using the GPT2LMHeadModel class of transformers."
   ]
  },
  {
   "cell_type": "code",
   "execution_count": 6,
   "id": "310dcc2f",
   "metadata": {
    "id": "310dcc2f",
    "scrolled": true
   },
   "outputs": [],
   "source": [
    "#Define function to load and tokenize the dataset\n",
    "def load_dataset(file_path, tokenizer, block_size = 128):\n",
    "    dataset = TextDataset(\n",
    "        tokenizer = tokenizer,\n",
    "        file_path = file_path,\n",
    "        block_size = block_size,\n",
    "    )\n",
    "    return dataset\n",
    "\n",
    "#Function to load data collator for language modelling\n",
    "def load_data_collator(tokenizer, mlm = False):\n",
    "    data_collator = DataCollatorForLanguageModeling(\n",
    "        tokenizer=tokenizer, \n",
    "        mlm=mlm,\n",
    "    )\n",
    "    return data_collator\n",
    "\n",
    "#Function to train the model\n",
    "def train(train_file_path,model_name,output_dir,overwrite_output_dir,\n",
    "          per_device_train_batch_size,\n",
    "          num_train_epochs,learning_rate):\n",
    "    \n",
    "    tokenizer = GPT2Tokenizer.from_pretrained(model_name)\n",
    "    train_dataset = load_dataset(train_file_path, tokenizer)\n",
    "    data_collator = load_data_collator(tokenizer)\n",
    "\n",
    "    tokenizer.save_pretrained(output_dir)\n",
    "\n",
    "    model = GPT2LMHeadModel.from_pretrained(model_name)\n",
    "\n",
    "    #Define training arguments\n",
    "    training_args = TrainingArguments(\n",
    "        output_dir=output_dir,\n",
    "        overwrite_output_dir=overwrite_output_dir,\n",
    "        per_device_train_batch_size=per_device_train_batch_size,\n",
    "        num_train_epochs=num_train_epochs,logging_steps=100, learning_rate = learning_rate)\n",
    "    #Trainer function to train the model        \n",
    "    trainer = Trainer(model=model,args=training_args,data_collator=data_collator,train_dataset=train_dataset)\n",
    "\n",
    "    trainer.train()\n",
    "    #Save the model\n",
    "    trainer.save_model()\n",
    "    return trainer\n",
    "\n"
   ]
  },
  {
   "attachments": {},
   "cell_type": "markdown",
   "id": "GXHEA-cORIoH",
   "metadata": {
    "id": "GXHEA-cORIoH"
   },
   "source": [
    "## References\n",
    "#### 1. https://huggingface.co/docs/transformers/main_classes/pipelines#transformers.pipeline.model\n",
    "#### 2. https://huggingface.co/docs/transformers/main_classes/trainer\n",
    "#### 3. GPT-2 available at chat.openai.com for more understanding of arguments. "
   ]
  },
  {
   "attachments": {},
   "cell_type": "markdown",
   "id": "8c1c9228",
   "metadata": {
    "id": "8c1c9228"
   },
   "source": [
    "### Fine tune GPT-2 model with learning rate 0.0001 (Model 1)"
   ]
  },
  {
   "cell_type": "code",
   "execution_count": null,
   "id": "57bf4b33",
   "metadata": {
    "id": "57bf4b33"
   },
   "outputs": [],
   "source": [
    "#Setting parameters\n",
    "train_file_path = data_file\n",
    "model_name = 'gpt2'\n",
    "output_dir = 'saved_model'\n",
    "overwrite_output_dir = True\n",
    "per_device_train_batch_size = 32\n",
    "num_train_epochs = 10\n",
    "learning_rate = 0.0001"
   ]
  },
  {
   "cell_type": "code",
   "execution_count": null,
   "id": "34ed41be",
   "metadata": {
    "colab": {
     "base_uri": "https://localhost:8080/",
     "height": 1000
    },
    "id": "34ed41be",
    "outputId": "5cb11844-0614-4e43-e0ec-6d0ad39ceaa6"
   },
   "outputs": [
    {
     "name": "stdout",
     "output_type": "stream",
     "text": [
      "Learning Rate =  0.0001\n"
     ]
    },
    {
     "name": "stderr",
     "output_type": "stream",
     "text": [
      "/usr/local/lib/python3.10/dist-packages/transformers/optimization.py:407: FutureWarning: This implementation of AdamW is deprecated and will be removed in a future version. Use the PyTorch implementation torch.optim.AdamW instead, or set `no_deprecation_warning=True` to disable this warning\n",
      "  warnings.warn(\n"
     ]
    },
    {
     "data": {
      "text/html": [
       "\n",
       "    <div>\n",
       "      \n",
       "      <progress value='3110' max='3110' style='width:300px; height:20px; vertical-align: middle;'></progress>\n",
       "      [3110/3110 1:02:31, Epoch 10/10]\n",
       "    </div>\n",
       "    <table border=\"1\" class=\"dataframe\">\n",
       "  <thead>\n",
       " <tr style=\"text-align: left;\">\n",
       "      <th>Step</th>\n",
       "      <th>Training Loss</th>\n",
       "    </tr>\n",
       "  </thead>\n",
       "  <tbody>\n",
       "    <tr>\n",
       "      <td>100</td>\n",
       "      <td>4.176000</td>\n",
       "    </tr>\n",
       "    <tr>\n",
       "      <td>200</td>\n",
       "      <td>3.958600</td>\n",
       "    </tr>\n",
       "    <tr>\n",
       "      <td>300</td>\n",
       "      <td>3.882500</td>\n",
       "    </tr>\n",
       "    <tr>\n",
       "      <td>400</td>\n",
       "      <td>3.722300</td>\n",
       "    </tr>\n",
       "    <tr>\n",
       "      <td>500</td>\n",
       "      <td>3.690900</td>\n",
       "    </tr>\n",
       "    <tr>\n",
       "      <td>600</td>\n",
       "      <td>3.668900</td>\n",
       "    </tr>\n",
       "    <tr>\n",
       "      <td>700</td>\n",
       "      <td>3.552100</td>\n",
       "    </tr>\n",
       "    <tr>\n",
       "      <td>800</td>\n",
       "      <td>3.517200</td>\n",
       "    </tr>\n",
       "    <tr>\n",
       "      <td>900</td>\n",
       "      <td>3.515500</td>\n",
       "    </tr>\n",
       "    <tr>\n",
       "      <td>1000</td>\n",
       "      <td>3.430500</td>\n",
       "    </tr>\n",
       "    <tr>\n",
       "      <td>1100</td>\n",
       "      <td>3.394400</td>\n",
       "    </tr>\n",
       "    <tr>\n",
       "      <td>1200</td>\n",
       "      <td>3.394000</td>\n",
       "    </tr>\n",
       "    <tr>\n",
       "      <td>1300</td>\n",
       "      <td>3.333100</td>\n",
       "    </tr>\n",
       "    <tr>\n",
       "      <td>1400</td>\n",
       "      <td>3.287900</td>\n",
       "    </tr>\n",
       "    <tr>\n",
       "      <td>1500</td>\n",
       "      <td>3.299900</td>\n",
       "    </tr>\n",
       "    <tr>\n",
       "      <td>1600</td>\n",
       "      <td>3.248000</td>\n",
       "    </tr>\n",
       "    <tr>\n",
       "      <td>1700</td>\n",
       "      <td>3.220100</td>\n",
       "    </tr>\n",
       "    <tr>\n",
       "      <td>1800</td>\n",
       "      <td>3.205400</td>\n",
       "    </tr>\n",
       "    <tr>\n",
       "      <td>1900</td>\n",
       "      <td>3.188700</td>\n",
       "    </tr>\n",
       "    <tr>\n",
       "      <td>2000</td>\n",
       "      <td>3.130500</td>\n",
       "    </tr>\n",
       "    <tr>\n",
       "      <td>2100</td>\n",
       "      <td>3.151000</td>\n",
       "    </tr>\n",
       "    <tr>\n",
       "      <td>2200</td>\n",
       "      <td>3.126100</td>\n",
       "    </tr>\n",
       "    <tr>\n",
       "      <td>2300</td>\n",
       "      <td>3.081900</td>\n",
       "    </tr>\n",
       "    <tr>\n",
       "      <td>2400</td>\n",
       "      <td>3.088100</td>\n",
       "    </tr>\n",
       "    <tr>\n",
       "      <td>2500</td>\n",
       "      <td>3.091500</td>\n",
       "    </tr>\n",
       "    <tr>\n",
       "      <td>2600</td>\n",
       "      <td>3.044200</td>\n",
       "    </tr>\n",
       "    <tr>\n",
       "      <td>2700</td>\n",
       "      <td>3.051400</td>\n",
       "    </tr>\n",
       "    <tr>\n",
       "      <td>2800</td>\n",
       "      <td>3.053500</td>\n",
       "    </tr>\n",
       "    <tr>\n",
       "      <td>2900</td>\n",
       "      <td>3.021400</td>\n",
       "    </tr>\n",
       "    <tr>\n",
       "      <td>3000</td>\n",
       "      <td>3.019300</td>\n",
       "    </tr>\n",
       "    <tr>\n",
       "      <td>3100</td>\n",
       "      <td>3.023400</td>\n",
       "    </tr>\n",
       "  </tbody>\n",
       "</table><p>"
      ],
      "text/plain": [
       "<IPython.core.display.HTML object>"
      ]
     },
     "metadata": {},
     "output_type": "display_data"
    }
   ],
   "source": [
    "#Calling train function to train the model\n",
    "print(\"Learning Rate = \", learning_rate)\n",
    "trainer = train(train_file_path=train_file_path,model_name=model_name,\n",
    "                output_dir=output_dir,\n",
    "                overwrite_output_dir=overwrite_output_dir,\n",
    "                per_device_train_batch_size=per_device_train_batch_size,\n",
    "                num_train_epochs=num_train_epochs, learning_rate=learning_rate)"
   ]
  },
  {
   "attachments": {},
   "cell_type": "markdown",
   "id": "ecd381c8",
   "metadata": {
    "id": "ecd381c8"
   },
   "source": [
    "### Visualize the training logs for Model 1"
   ]
  },
  {
   "cell_type": "code",
   "execution_count": null,
   "id": "3f91a8dd",
   "metadata": {
    "colab": {
     "base_uri": "https://localhost:8080/"
    },
    "id": "3f91a8dd",
    "outputId": "ded895a0-a334-4f78-fc50-16550ba26cc7"
   },
   "outputs": [
    {
     "data": {
      "text/plain": [
       "[{'loss': 4.176,\n",
       "  'learning_rate': 9.678456591639872e-05,\n",
       "  'epoch': 0.32,\n",
       "  'step': 100},\n",
       " {'loss': 3.9586,\n",
       "  'learning_rate': 9.356913183279743e-05,\n",
       "  'epoch': 0.64,\n",
       "  'step': 200},\n",
       " {'loss': 3.8825,\n",
       "  'learning_rate': 9.035369774919614e-05,\n",
       "  'epoch': 0.96,\n",
       "  'step': 300},\n",
       " {'loss': 3.7223,\n",
       "  'learning_rate': 8.713826366559486e-05,\n",
       "  'epoch': 1.29,\n",
       "  'step': 400},\n",
       " {'loss': 3.6909,\n",
       "  'learning_rate': 8.392282958199358e-05,\n",
       "  'epoch': 1.61,\n",
       "  'step': 500},\n",
       " {'loss': 3.6689,\n",
       "  'learning_rate': 8.07073954983923e-05,\n",
       "  'epoch': 1.93,\n",
       "  'step': 600},\n",
       " {'loss': 3.5521,\n",
       "  'learning_rate': 7.749196141479101e-05,\n",
       "  'epoch': 2.25,\n",
       "  'step': 700},\n",
       " {'loss': 3.5172,\n",
       "  'learning_rate': 7.427652733118972e-05,\n",
       "  'epoch': 2.57,\n",
       "  'step': 800},\n",
       " {'loss': 3.5155,\n",
       "  'learning_rate': 7.106109324758843e-05,\n",
       "  'epoch': 2.89,\n",
       "  'step': 900},\n",
       " {'loss': 3.4305,\n",
       "  'learning_rate': 6.784565916398715e-05,\n",
       "  'epoch': 3.22,\n",
       "  'step': 1000},\n",
       " {'loss': 3.3944,\n",
       "  'learning_rate': 6.463022508038586e-05,\n",
       "  'epoch': 3.54,\n",
       "  'step': 1100},\n",
       " {'loss': 3.394,\n",
       "  'learning_rate': 6.141479099678457e-05,\n",
       "  'epoch': 3.86,\n",
       "  'step': 1200},\n",
       " {'loss': 3.3331,\n",
       "  'learning_rate': 5.8199356913183276e-05,\n",
       "  'epoch': 4.18,\n",
       "  'step': 1300},\n",
       " {'loss': 3.2879,\n",
       "  'learning_rate': 5.498392282958199e-05,\n",
       "  'epoch': 4.5,\n",
       "  'step': 1400},\n",
       " {'loss': 3.2999,\n",
       "  'learning_rate': 5.1768488745980715e-05,\n",
       "  'epoch': 4.82,\n",
       "  'step': 1500},\n",
       " {'loss': 3.248,\n",
       "  'learning_rate': 4.855305466237942e-05,\n",
       "  'epoch': 5.14,\n",
       "  'step': 1600},\n",
       " {'loss': 3.2201,\n",
       "  'learning_rate': 4.533762057877814e-05,\n",
       "  'epoch': 5.47,\n",
       "  'step': 1700},\n",
       " {'loss': 3.2054,\n",
       "  'learning_rate': 4.212218649517685e-05,\n",
       "  'epoch': 5.79,\n",
       "  'step': 1800},\n",
       " {'loss': 3.1887,\n",
       "  'learning_rate': 3.8906752411575566e-05,\n",
       "  'epoch': 6.11,\n",
       "  'step': 1900},\n",
       " {'loss': 3.1305,\n",
       "  'learning_rate': 3.569131832797428e-05,\n",
       "  'epoch': 6.43,\n",
       "  'step': 2000},\n",
       " {'loss': 3.151,\n",
       "  'learning_rate': 3.247588424437299e-05,\n",
       "  'epoch': 6.75,\n",
       "  'step': 2100},\n",
       " {'loss': 3.1261,\n",
       "  'learning_rate': 2.9260450160771707e-05,\n",
       "  'epoch': 7.07,\n",
       "  'step': 2200},\n",
       " {'loss': 3.0819,\n",
       "  'learning_rate': 2.604501607717042e-05,\n",
       "  'epoch': 7.4,\n",
       "  'step': 2300},\n",
       " {'loss': 3.0881,\n",
       "  'learning_rate': 2.2829581993569133e-05,\n",
       "  'epoch': 7.72,\n",
       "  'step': 2400},\n",
       " {'loss': 3.0915,\n",
       "  'learning_rate': 1.961414790996785e-05,\n",
       "  'epoch': 8.04,\n",
       "  'step': 2500},\n",
       " {'loss': 3.0442,\n",
       "  'learning_rate': 1.639871382636656e-05,\n",
       "  'epoch': 8.36,\n",
       "  'step': 2600},\n",
       " {'loss': 3.0514,\n",
       "  'learning_rate': 1.3183279742765272e-05,\n",
       "  'epoch': 8.68,\n",
       "  'step': 2700},\n",
       " {'loss': 3.0535,\n",
       "  'learning_rate': 9.967845659163988e-06,\n",
       "  'epoch': 9.0,\n",
       "  'step': 2800},\n",
       " {'loss': 3.0214,\n",
       "  'learning_rate': 6.752411575562702e-06,\n",
       "  'epoch': 9.32,\n",
       "  'step': 2900},\n",
       " {'loss': 3.0193,\n",
       "  'learning_rate': 3.536977491961415e-06,\n",
       "  'epoch': 9.65,\n",
       "  'step': 3000},\n",
       " {'loss': 3.0234,\n",
       "  'learning_rate': 3.2154340836012864e-07,\n",
       "  'epoch': 9.97,\n",
       "  'step': 3100},\n",
       " {'train_runtime': 3755.844,\n",
       "  'train_samples_per_second': 26.473,\n",
       "  'train_steps_per_second': 0.828,\n",
       "  'total_flos': 6495066685440000.0,\n",
       "  'train_loss': 3.339925689942584,\n",
       "  'epoch': 10.0,\n",
       "  'step': 3110}]"
      ]
     },
     "execution_count": 10,
     "metadata": {},
     "output_type": "execute_result"
    }
   ],
   "source": [
    "#Print the model training logs\n",
    "trainer.state.log_history"
   ]
  },
  {
   "cell_type": "code",
   "execution_count": null,
   "id": "eb60d48b",
   "metadata": {
    "id": "eb60d48b"
   },
   "outputs": [],
   "source": [
    "#Store steps, loss and epochs data from training logs\n",
    "steps = []\n",
    "loss =[]\n",
    "epochs=[]\n",
    "for i in range(len(trainer.state.log_history)):\n",
    "    steps.append(trainer.state.log_history[i][\"step\"])\n",
    "for i in range(len(trainer.state.log_history)):\n",
    "    epochs.append(trainer.state.log_history[i][\"epoch\"])\n"
   ]
  },
  {
   "cell_type": "code",
   "execution_count": null,
   "id": "8cb498d6",
   "metadata": {
    "id": "8cb498d6",
    "scrolled": true
   },
   "outputs": [],
   "source": [
    "for i in range(len(trainer.state.log_history)-1):\n",
    "    loss.append(trainer.state.log_history[i][\"loss\"])\n",
    "loss.append(trainer.state.log_history[len(trainer.state.log_history)-1][\"train_loss\"])"
   ]
  },
  {
   "cell_type": "code",
   "execution_count": null,
   "id": "10d38fa7",
   "metadata": {
    "colab": {
     "base_uri": "https://localhost:8080/"
    },
    "id": "10d38fa7",
    "outputId": "57295fc1-6e4c-4ef5-b910-94a63ec7db05"
   },
   "outputs": [
    {
     "name": "stdout",
     "output_type": "stream",
     "text": [
      "[0.32, 0.64, 0.96, 1.29, 1.61, 1.93, 2.25, 2.57, 2.89, 3.22, 3.54, 3.86, 4.18, 4.5, 4.82, 5.14, 5.47, 5.79, 6.11, 6.43, 6.75, 7.07, 7.4, 7.72, 8.04, 8.36, 8.68, 9.0, 9.32, 9.65, 9.97, 10.0] [100, 200, 300, 400, 500, 600, 700, 800, 900, 1000, 1100, 1200, 1300, 1400, 1500, 1600, 1700, 1800, 1900, 2000, 2100, 2200, 2300, 2400, 2500, 2600, 2700, 2800, 2900, 3000, 3100, 3110] [4.176, 3.9586, 3.8825, 3.7223, 3.6909, 3.6689, 3.5521, 3.5172, 3.5155, 3.4305, 3.3944, 3.394, 3.3331, 3.2879, 3.2999, 3.248, 3.2201, 3.2054, 3.1887, 3.1305, 3.151, 3.1261, 3.0819, 3.0881, 3.0915, 3.0442, 3.0514, 3.0535, 3.0214, 3.0193, 3.0234, 3.339925689942584]\n"
     ]
    }
   ],
   "source": [
    "print(epochs,steps, loss)"
   ]
  },
  {
   "cell_type": "code",
   "execution_count": null,
   "id": "4ab6eb93",
   "metadata": {
    "colab": {
     "base_uri": "https://localhost:8080/",
     "height": 472
    },
    "id": "4ab6eb93",
    "outputId": "b7fc7e7c-4eef-419a-fb4b-66bbfcc6aff5"
   },
   "outputs": [
    {
     "data": {
      "image/png": "[encoded data removed]",
      "text/plain": [
       "<Figure size 640x480 with 1 Axes>"
      ]
     },
     "metadata": {},
     "output_type": "display_data"
    }
   ],
   "source": [
    "#Plot the graph of training loss vs steps\n",
    "plt.plot(steps, loss)\n",
    "plt.xlabel(\"Step\")\n",
    "plt.ylabel(\"Loss\")\n",
    "plt.title(\"Loss vs. Steps\")\n",
    "plt.show()"
   ]
  },
  {
   "attachments": {},
   "cell_type": "markdown",
   "id": "d79292de",
   "metadata": {},
   "source": [
    "### Both charts represents that with increasing step size and epochs loss is decreasing and at last its increasing. SO, it is recommended to use callbacks for early stopping to stop where loss is minimum. Minimum training loss value we got for learning rate = 0.0001 is 3.0193"
   ]
  },
  {
   "cell_type": "code",
   "execution_count": null,
   "id": "03c41ed3",
   "metadata": {
    "colab": {
     "base_uri": "https://localhost:8080/",
     "height": 472
    },
    "id": "03c41ed3",
    "outputId": "48e98b0f-afff-4408-90fb-b7891a989742",
    "scrolled": true
   },
   "outputs": [
    {
     "data": {
      "image/png": "[encoded data removed]",
      "text/plain": [
       "<Figure size 640x480 with 1 Axes>"
      ]
     },
     "metadata": {},
     "output_type": "display_data"
    }
   ],
   "source": [
    "#Plot the graph of training loss vs epochs\n",
    "plt.plot(epochs, loss)\n",
    "plt.xlabel(\"Epochs\")\n",
    "plt.ylabel(\"Loss\")\n",
    "plt.title(\"Loss vs. Epochs\")\n",
    "plt.show()"
   ]
  },
  {
   "attachments": {},
   "cell_type": "markdown",
   "id": "fc60f1d0",
   "metadata": {
    "id": "fc60f1d0"
   },
   "source": [
    "### Model Evaluation (Model 1)"
   ]
  },
  {
   "cell_type": "code",
   "execution_count": null,
   "id": "62f959a7",
   "metadata": {
    "colab": {
     "base_uri": "https://localhost:8080/"
    },
    "id": "62f959a7",
    "outputId": "13042c5c-2cb5-469b-cd2e-00193aa7bfaf"
   },
   "outputs": [
    {
     "name": "stderr",
     "output_type": "stream",
     "text": [
      "Setting `pad_token_id` to `eos_token_id`:50256 for open-end generation.\n"
     ]
    },
    {
     "data": {
      "text/plain": [
       "[{'generated_text': 'Harry he said softly Ive told him youve been wanting him for a year Ron whispered Harry stared up into Hermiones face and her hair fell'},\n",
       " {'generated_text': 'Harry have heard of him Dumbledore said hastily Page 639Harry Potter and the Order of the Phoenix JK Rowling Yes said Harry quietly Dumbledore is still at'}]"
      ]
     },
     "execution_count": 19,
     "metadata": {},
     "output_type": "execute_result"
    }
   ],
   "source": [
    "# Generate text example\n",
    "generator = pipeline('text-generation', model=\"./saved_model\")\n",
    "generator(\"Harry\", max_length=30, num_return_sequences=2)"
   ]
  },
  {
   "attachments": {},
   "cell_type": "markdown",
   "id": "e8943312",
   "metadata": {},
   "source": [
    "### Here again prompt text \"Harry\" was used to generate text from fine tuned GPT 2 model and we can notice that both of sequences are related to Harry Potter and Hogwartz which shows that our fine tuning process is successful."
   ]
  },
  {
   "cell_type": "code",
   "execution_count": null,
   "id": "2d8bd65f",
   "metadata": {
    "colab": {
     "base_uri": "https://localhost:8080/"
    },
    "id": "2d8bd65f",
    "outputId": "627762ac-5245-4f9f-e001-db896249e52b",
    "scrolled": true
   },
   "outputs": [
    {
     "name": "stderr",
     "output_type": "stream",
     "text": [
      "Setting `pad_token_id` to `eos_token_id`:50256 for open-end generation.\n"
     ]
    },
    {
     "data": {
      "text/plain": [
       "[{'generated_text': 'Hogwarts and the Half Blood Prince JK Rowling You can use magic as you like said Dumbledore But Harry had never tried this before He and Ron stared at him It feels strange said Dumbledore And he said youve got the power to hex people He opened his mouth to answer a question Harry had not expected at all After all he had known too late that he was going to see Voldemort again and that he had fought that battle on the Hogwarts Express He glanced toward the windows as they passed in the Great'}]"
      ]
     },
     "execution_count": 20,
     "metadata": {},
     "output_type": "execute_result"
    }
   ],
   "source": [
    "#Generate text example\n",
    "generator(\"Hogwarts\", max_length=100, num_return_sequences=1)"
   ]
  },
  {
   "cell_type": "code",
   "execution_count": 8,
   "id": "EJsKkXRsvCDl",
   "metadata": {
    "id": "EJsKkXRsvCDl"
   },
   "outputs": [],
   "source": []
  },
  {
   "attachments": {},
   "cell_type": "markdown",
   "id": "tJVMryX251jh",
   "metadata": {
    "id": "tJVMryX251jh"
   },
   "source": [
    "### Fine tune model with learning rate 0.001 (Model 2)"
   ]
  },
  {
   "cell_type": "code",
   "execution_count": 10,
   "id": "aXkoYF5J5LsY",
   "metadata": {
    "id": "aXkoYF5J5LsY"
   },
   "outputs": [],
   "source": [
    "#Setting parameters\n",
    "train_file_path = data_file\n",
    "model_name = 'gpt2'\n",
    "output_dir = 'saved_model1'\n",
    "overwrite_output_dir = True\n",
    "per_device_train_batch_size = 32\n",
    "num_train_epochs = 10\n",
    "learning_rate = 0.001"
   ]
  },
  {
   "cell_type": "code",
   "execution_count": 11,
   "id": "tTS8vHG55M_q",
   "metadata": {
    "colab": {
     "base_uri": "https://localhost:8080/",
     "height": 1000
    },
    "id": "tTS8vHG55M_q",
    "outputId": "90eeff17-7f69-484b-c0db-6e64ab4b2b50"
   },
   "outputs": [
    {
     "name": "stdout",
     "output_type": "stream",
     "text": [
      "Learning Rate =  0.001\n"
     ]
    },
    {
     "data": {
      "text/html": [
       "\n",
       "    <div>\n",
       "      \n",
       "      <progress value='3110' max='3110' style='width:300px; height:20px; vertical-align: middle;'></progress>\n",
       "      [3110/3110 1:02:53, Epoch 10/10]\n",
       "    </div>\n",
       "    <table border=\"1\" class=\"dataframe\">\n",
       "  <thead>\n",
       " <tr style=\"text-align: left;\">\n",
       "      <th>Step</th>\n",
       "      <th>Training Loss</th>\n",
       "    </tr>\n",
       "  </thead>\n",
       "  <tbody>\n",
       "    <tr>\n",
       "      <td>100</td>\n",
       "      <td>4.385500</td>\n",
       "    </tr>\n",
       "    <tr>\n",
       "      <td>200</td>\n",
       "      <td>4.023700</td>\n",
       "    </tr>\n",
       "    <tr>\n",
       "      <td>300</td>\n",
       "      <td>3.920500</td>\n",
       "    </tr>\n",
       "    <tr>\n",
       "      <td>400</td>\n",
       "      <td>3.494000</td>\n",
       "    </tr>\n",
       "    <tr>\n",
       "      <td>500</td>\n",
       "      <td>3.485400</td>\n",
       "    </tr>\n",
       "    <tr>\n",
       "      <td>600</td>\n",
       "      <td>3.480600</td>\n",
       "    </tr>\n",
       "    <tr>\n",
       "      <td>700</td>\n",
       "      <td>3.070800</td>\n",
       "    </tr>\n",
       "    <tr>\n",
       "      <td>800</td>\n",
       "      <td>3.040600</td>\n",
       "    </tr>\n",
       "    <tr>\n",
       "      <td>900</td>\n",
       "      <td>3.080900</td>\n",
       "    </tr>\n",
       "    <tr>\n",
       "      <td>1000</td>\n",
       "      <td>2.711100</td>\n",
       "    </tr>\n",
       "    <tr>\n",
       "      <td>1100</td>\n",
       "      <td>2.609400</td>\n",
       "    </tr>\n",
       "    <tr>\n",
       "      <td>1200</td>\n",
       "      <td>2.673900</td>\n",
       "    </tr>\n",
       "    <tr>\n",
       "      <td>1300</td>\n",
       "      <td>2.348000</td>\n",
       "    </tr>\n",
       "    <tr>\n",
       "      <td>1400</td>\n",
       "      <td>2.182500</td>\n",
       "    </tr>\n",
       "    <tr>\n",
       "      <td>1500</td>\n",
       "      <td>2.246700</td>\n",
       "    </tr>\n",
       "    <tr>\n",
       "      <td>1600</td>\n",
       "      <td>2.008600</td>\n",
       "    </tr>\n",
       "    <tr>\n",
       "      <td>1700</td>\n",
       "      <td>1.770700</td>\n",
       "    </tr>\n",
       "    <tr>\n",
       "      <td>1800</td>\n",
       "      <td>1.836500</td>\n",
       "    </tr>\n",
       "    <tr>\n",
       "      <td>1900</td>\n",
       "      <td>1.696000</td>\n",
       "    </tr>\n",
       "    <tr>\n",
       "      <td>2000</td>\n",
       "      <td>1.408800</td>\n",
       "    </tr>\n",
       "    <tr>\n",
       "      <td>2100</td>\n",
       "      <td>1.467400</td>\n",
       "    </tr>\n",
       "    <tr>\n",
       "      <td>2200</td>\n",
       "      <td>1.396800</td>\n",
       "    </tr>\n",
       "    <tr>\n",
       "      <td>2300</td>\n",
       "      <td>1.122200</td>\n",
       "    </tr>\n",
       "    <tr>\n",
       "      <td>2400</td>\n",
       "      <td>1.153000</td>\n",
       "    </tr>\n",
       "    <tr>\n",
       "      <td>2500</td>\n",
       "      <td>1.146800</td>\n",
       "    </tr>\n",
       "    <tr>\n",
       "      <td>2600</td>\n",
       "      <td>0.907500</td>\n",
       "    </tr>\n",
       "    <tr>\n",
       "      <td>2700</td>\n",
       "      <td>0.926500</td>\n",
       "    </tr>\n",
       "    <tr>\n",
       "      <td>2800</td>\n",
       "      <td>0.939800</td>\n",
       "    </tr>\n",
       "    <tr>\n",
       "      <td>2900</td>\n",
       "      <td>0.771400</td>\n",
       "    </tr>\n",
       "    <tr>\n",
       "      <td>3000</td>\n",
       "      <td>0.776400</td>\n",
       "    </tr>\n",
       "    <tr>\n",
       "      <td>3100</td>\n",
       "      <td>0.778200</td>\n",
       "    </tr>\n",
       "  </tbody>\n",
       "</table><p>"
      ],
      "text/plain": [
       "<IPython.core.display.HTML object>"
      ]
     },
     "metadata": {},
     "output_type": "display_data"
    }
   ],
   "source": [
    "#Calling train function to train the model\n",
    "print(\"Learning Rate = \", learning_rate)\n",
    "trainer1 = train(train_file_path=train_file_path,model_name=model_name,\n",
    "                output_dir=output_dir,\n",
    "                overwrite_output_dir=overwrite_output_dir,\n",
    "                per_device_train_batch_size=per_device_train_batch_size,\n",
    "                num_train_epochs=num_train_epochs, learning_rate=learning_rate)"
   ]
  },
  {
   "cell_type": "code",
   "execution_count": 12,
   "id": "P5BNIZKc5YbP",
   "metadata": {
    "colab": {
     "base_uri": "https://localhost:8080/"
    },
    "id": "P5BNIZKc5YbP",
    "outputId": "78b69c95-44e7-43cc-e30c-60f1f263f186"
   },
   "outputs": [
    {
     "data": {
      "text/plain": [
       "[{'loss': 4.3855,\n",
       "  'learning_rate': 0.0009678456591639871,\n",
       "  'epoch': 0.32,\n",
       "  'step': 100},\n",
       " {'loss': 4.0237,\n",
       "  'learning_rate': 0.0009356913183279742,\n",
       "  'epoch': 0.64,\n",
       "  'step': 200},\n",
       " {'loss': 3.9205,\n",
       "  'learning_rate': 0.0009035369774919614,\n",
       "  'epoch': 0.96,\n",
       "  'step': 300},\n",
       " {'loss': 3.494,\n",
       "  'learning_rate': 0.0008713826366559485,\n",
       "  'epoch': 1.29,\n",
       "  'step': 400},\n",
       " {'loss': 3.4854,\n",
       "  'learning_rate': 0.0008392282958199357,\n",
       "  'epoch': 1.61,\n",
       "  'step': 500},\n",
       " {'loss': 3.4806,\n",
       "  'learning_rate': 0.0008070739549839228,\n",
       "  'epoch': 1.93,\n",
       "  'step': 600},\n",
       " {'loss': 3.0708,\n",
       "  'learning_rate': 0.00077491961414791,\n",
       "  'epoch': 2.25,\n",
       "  'step': 700},\n",
       " {'loss': 3.0406,\n",
       "  'learning_rate': 0.0007427652733118971,\n",
       "  'epoch': 2.57,\n",
       "  'step': 800},\n",
       " {'loss': 3.0809,\n",
       "  'learning_rate': 0.0007106109324758842,\n",
       "  'epoch': 2.89,\n",
       "  'step': 900},\n",
       " {'loss': 2.7111,\n",
       "  'learning_rate': 0.0006784565916398713,\n",
       "  'epoch': 3.22,\n",
       "  'step': 1000},\n",
       " {'loss': 2.6094,\n",
       "  'learning_rate': 0.0006463022508038586,\n",
       "  'epoch': 3.54,\n",
       "  'step': 1100},\n",
       " {'loss': 2.6739,\n",
       "  'learning_rate': 0.0006141479099678456,\n",
       "  'epoch': 3.86,\n",
       "  'step': 1200},\n",
       " {'loss': 2.348,\n",
       "  'learning_rate': 0.0005819935691318327,\n",
       "  'epoch': 4.18,\n",
       "  'step': 1300},\n",
       " {'loss': 2.1825,\n",
       "  'learning_rate': 0.0005498392282958198,\n",
       "  'epoch': 4.5,\n",
       "  'step': 1400},\n",
       " {'loss': 2.2467,\n",
       "  'learning_rate': 0.0005176848874598072,\n",
       "  'epoch': 4.82,\n",
       "  'step': 1500},\n",
       " {'loss': 2.0086,\n",
       "  'learning_rate': 0.0004855305466237942,\n",
       "  'epoch': 5.14,\n",
       "  'step': 1600},\n",
       " {'loss': 1.7707,\n",
       "  'learning_rate': 0.00045337620578778136,\n",
       "  'epoch': 5.47,\n",
       "  'step': 1700},\n",
       " {'loss': 1.8365,\n",
       "  'learning_rate': 0.0004212218649517685,\n",
       "  'epoch': 5.79,\n",
       "  'step': 1800},\n",
       " {'loss': 1.696,\n",
       "  'learning_rate': 0.0003890675241157556,\n",
       "  'epoch': 6.11,\n",
       "  'step': 1900},\n",
       " {'loss': 1.4088,\n",
       "  'learning_rate': 0.00035691318327974277,\n",
       "  'epoch': 6.43,\n",
       "  'step': 2000},\n",
       " {'loss': 1.4674,\n",
       "  'learning_rate': 0.00032475884244372987,\n",
       "  'epoch': 6.75,\n",
       "  'step': 2100},\n",
       " {'loss': 1.3968,\n",
       "  'learning_rate': 0.0002926045016077171,\n",
       "  'epoch': 7.07,\n",
       "  'step': 2200},\n",
       " {'loss': 1.1222,\n",
       "  'learning_rate': 0.0002604501607717042,\n",
       "  'epoch': 7.4,\n",
       "  'step': 2300},\n",
       " {'loss': 1.153,\n",
       "  'learning_rate': 0.0002282958199356913,\n",
       "  'epoch': 7.72,\n",
       "  'step': 2400},\n",
       " {'loss': 1.1468,\n",
       "  'learning_rate': 0.00019614147909967846,\n",
       "  'epoch': 8.04,\n",
       "  'step': 2500},\n",
       " {'loss': 0.9075,\n",
       "  'learning_rate': 0.00016398713826366559,\n",
       "  'epoch': 8.36,\n",
       "  'step': 2600},\n",
       " {'loss': 0.9265,\n",
       "  'learning_rate': 0.0001318327974276527,\n",
       "  'epoch': 8.68,\n",
       "  'step': 2700},\n",
       " {'loss': 0.9398,\n",
       "  'learning_rate': 9.967845659163988e-05,\n",
       "  'epoch': 9.0,\n",
       "  'step': 2800},\n",
       " {'loss': 0.7714,\n",
       "  'learning_rate': 6.752411575562702e-05,\n",
       "  'epoch': 9.32,\n",
       "  'step': 2900},\n",
       " {'loss': 0.7764,\n",
       "  'learning_rate': 3.536977491961415e-05,\n",
       "  'epoch': 9.65,\n",
       "  'step': 3000},\n",
       " {'loss': 0.7782,\n",
       "  'learning_rate': 3.215434083601286e-06,\n",
       "  'epoch': 9.97,\n",
       "  'step': 3100},\n",
       " {'train_runtime': 3774.6713,\n",
       "  'train_samples_per_second': 26.341,\n",
       "  'train_steps_per_second': 0.824,\n",
       "  'total_flos': 6495066685440000.0,\n",
       "  'train_loss': 2.152328290969996,\n",
       "  'epoch': 10.0,\n",
       "  'step': 3110}]"
      ]
     },
     "execution_count": 12,
     "metadata": {},
     "output_type": "execute_result"
    }
   ],
   "source": [
    "#Print the model training logs\n",
    "trainer1.state.log_history"
   ]
  },
  {
   "cell_type": "code",
   "execution_count": 13,
   "id": "CiANNE3a5ejz",
   "metadata": {
    "id": "CiANNE3a5ejz"
   },
   "outputs": [],
   "source": [
    "#Store steps, loss and epochs data from training logs\n",
    "steps1 = []\n",
    "loss1 =[]\n",
    "epochs1=[]\n",
    "for i in range(len(trainer1.state.log_history)):\n",
    "    steps1.append(trainer1.state.log_history[i][\"step\"])\n",
    "for i in range(len(trainer1.state.log_history)):\n",
    "    epochs1.append(trainer1.state.log_history[i][\"epoch\"])\n"
   ]
  },
  {
   "cell_type": "code",
   "execution_count": 14,
   "id": "Vwx4X5fw5i9N",
   "metadata": {
    "id": "Vwx4X5fw5i9N"
   },
   "outputs": [],
   "source": [
    "for i in range(len(trainer1.state.log_history)-1):\n",
    "    loss1.append(trainer1.state.log_history[i][\"loss\"])\n",
    "loss1.append(trainer1.state.log_history[len(trainer1.state.log_history)-1][\"train_loss\"])"
   ]
  },
  {
   "cell_type": "code",
   "execution_count": 15,
   "id": "SqO6CWBw5mFp",
   "metadata": {
    "colab": {
     "base_uri": "https://localhost:8080/",
     "height": 472
    },
    "id": "SqO6CWBw5mFp",
    "outputId": "b8089cff-b93e-445d-b8eb-291d1420ed13"
   },
   "outputs": [
    {
     "data": {
      "image/png": "[encoded data removed]",
      "text/plain": [
       "<Figure size 640x480 with 1 Axes>"
      ]
     },
     "metadata": {},
     "output_type": "display_data"
    }
   ],
   "source": [
    "#Plot the graph of training loss vs steps\n",
    "plt.plot(steps1, loss1)\n",
    "plt.xlabel(\"Step\")\n",
    "plt.ylabel(\"Loss\")\n",
    "plt.title(\"Loss vs. Steps for learning rate 0.001\")\n",
    "plt.show()"
   ]
  },
  {
   "attachments": {},
   "cell_type": "markdown",
   "id": "b3dede11",
   "metadata": {},
   "source": [
    "### Both charts represents that with increasing step size and epochs loss is decreasing and at last its increasing. So, it is recommended to use callbacks for early stopping to stop where loss is minimum. Minimum training loss value we got for learning rate = 0.001 is 0.7714  which is much lower than learning rate 0.0001. So, we can say that learning rate 0.001 worked more efficiently for 10 epochs in reducing training loss and recommend to use this value of learning rate."
   ]
  },
  {
   "cell_type": "code",
   "execution_count": 16,
   "id": "0pF1IeV35oyP",
   "metadata": {
    "colab": {
     "base_uri": "https://localhost:8080/",
     "height": 472
    },
    "id": "0pF1IeV35oyP",
    "outputId": "c99e78f4-59aa-40ac-8b2c-ca30583e0867"
   },
   "outputs": [
    {
     "data": {
      "image/png": "[encoded data removed]",
      "text/plain": [
       "<Figure size 640x480 with 1 Axes>"
      ]
     },
     "metadata": {},
     "output_type": "display_data"
    }
   ],
   "source": [
    "#Plot the graph of training loss vs epochs\n",
    "plt.plot(epochs1, loss1)\n",
    "plt.xlabel(\"Epochs\")\n",
    "plt.ylabel(\"Loss\")\n",
    "plt.title(\"Loss vs. Epochs for leaning rate 0.001\")\n",
    "plt.show()"
   ]
  },
  {
   "attachments": {},
   "cell_type": "markdown",
   "id": "xcvs_lg59mU0",
   "metadata": {
    "id": "xcvs_lg59mU0"
   },
   "source": [
    "### Model evaluation (Model 2)"
   ]
  },
  {
   "cell_type": "code",
   "execution_count": 21,
   "id": "Gg5gQevj9jea",
   "metadata": {
    "colab": {
     "base_uri": "https://localhost:8080/"
    },
    "id": "Gg5gQevj9jea",
    "outputId": "f9d924e5-4de6-44e3-f794-c22fc3db7eb8"
   },
   "outputs": [
    {
     "name": "stderr",
     "output_type": "stream",
     "text": [
      "Setting `pad_token_id` to `eos_token_id`:50256 for open-end generation.\n"
     ]
    },
    {
     "data": {
      "text/plain": [
       "[{'generated_text': 'Harry Potter and the Order of the Phoenix JK Rowling The carriage set off atacross in earnest swaying very slightly in the air Harry listened as'},\n",
       " {'generated_text': 'Harry was struggling against a backdrop of grimy blackandwhite photographs He tried to draw breath but it made his head spin and his breathing heavy Professor p'}]"
      ]
     },
     "execution_count": 21,
     "metadata": {},
     "output_type": "execute_result"
    }
   ],
   "source": [
    "# Generate text example\n",
    "generator = pipeline('text-generation', model=\"./saved_model1\")\n",
    "generator(\"Harry\", max_length=30, num_return_sequences=2)"
   ]
  },
  {
   "attachments": {},
   "cell_type": "markdown",
   "id": "5ed13231",
   "metadata": {},
   "source": [
    "### Here again text prompts \"Harry\" and \"Hogwarts\" were used to test the fine tuned model with learning rate 0.001 and as we can see both worked."
   ]
  },
  {
   "cell_type": "code",
   "execution_count": 18,
   "id": "L9IdVnMv9tbR",
   "metadata": {
    "colab": {
     "base_uri": "https://localhost:8080/"
    },
    "id": "L9IdVnMv9tbR",
    "outputId": "2ba56d56-ee39-4c2d-e167-1187bcbc8dcf",
    "scrolled": true
   },
   "outputs": [
    {
     "name": "stderr",
     "output_type": "stream",
     "text": [
      "Setting `pad_token_id` to `eos_token_id`:50256 for open-end generation.\n"
     ]
    },
    {
     "data": {
      "text/plain": [
       "[{'generated_text': 'Hogwarts cant be allowed out unless Sturgis Podmore who was supposed to be an old fraud has denied he ever had contact with Dumbledore There was a stunned silence Harry felt as though the final straw had died a little now it was too late Well there you have it Snape swept off his desk and stood staring at Harry without flinching I just wondered if there could be any way of getting it out of the castle once the thing was caught could there said Harry in surprise Maybe if we could'}]"
      ]
     },
     "execution_count": 18,
     "metadata": {},
     "output_type": "execute_result"
    }
   ],
   "source": [
    "#Generate text example\n",
    "generator(\"Hogwarts\", max_length=100, num_return_sequences=1)"
   ]
  },
  {
   "attachments": {},
   "cell_type": "markdown",
   "id": "a9af44ec",
   "metadata": {
    "id": "FrQHdh0oBFLS"
   },
   "source": [
    "### Using very high computational power, one can furthermore optimize this model to generate texts related to specific content or context."
   ]
  },
  {
   "cell_type": "code",
   "execution_count": null,
   "id": "a4146ecc",
   "metadata": {},
   "outputs": [],
   "source": []
  }
 ],
 "metadata": {
  "accelerator": "GPU",
  "colab": {
   "gpuType": "T4",
   "provenance": []
  },
  "kernelspec": {
   "display_name": "Python 3 (ipykernel)",
   "language": "python",
   "name": "python3"
  },
  "language_info": {
   "codemirror_mode": {
    "name": "ipython",
    "version": 3
   },
   "file_extension": ".py",
   "mimetype": "text/x-python",
   "name": "python",
   "nbconvert_exporter": "python",
   "pygments_lexer": "ipython3",
   "version": "3.11.2"
  },
  "widgets": {
   "application/vnd.jupyter.widget-state+json": {
    "01af6b7122f94b9f92853de3f80a3aad": {
     "model_module": "@jupyter-widgets/controls",
     "model_module_version": "1.5.0",
     "model_name": "ProgressStyleModel",
     "state": {
      "_model_module": "@jupyter-widgets/controls",
      "_model_module_version": "1.5.0",
      "_model_name": "ProgressStyleModel",
      "_view_count": null,
      "_view_module": "@jupyter-widgets/base",
      "_view_module_version": "1.2.0",
      "_view_name": "StyleView",
      "bar_color": null,
      "description_width": ""
     }
    },
    "0a0ec6e272714502af8b61fa11bd9e72": {
     "model_module": "@jupyter-widgets/controls",
     "model_module_version": "1.5.0",
     "model_name": "DescriptionStyleModel",
     "state": {
      "_model_module": "@jupyter-widgets/controls",
      "_model_module_version": "1.5.0",
      "_model_name": "DescriptionStyleModel",
      "_view_count": null,
      "_view_module": "@jupyter-widgets/base",
      "_view_module_version": "1.2.0",
      "_view_name": "StyleView",
      "description_width": ""
     }
    },
    "0ea8dcb0d4c64390b7178cddcb1598ee": {
     "model_module": "@jupyter-widgets/base",
     "model_module_version": "1.2.0",
     "model_name": "LayoutModel",
     "state": {
      "_model_module": "@jupyter-widgets/base",
      "_model_module_version": "1.2.0",
      "_model_name": "LayoutModel",
      "_view_count": null,
      "_view_module": "@jupyter-widgets/base",
      "_view_module_version": "1.2.0",
      "_view_name": "LayoutView",
      "align_content": null,
      "align_items": null,
      "align_self": null,
      "border": null,
      "bottom": null,
      "display": null,
      "flex": null,
      "flex_flow": null,
      "grid_area": null,
      "grid_auto_columns": null,
      "grid_auto_flow": null,
      "grid_auto_rows": null,
      "grid_column": null,
      "grid_gap": null,
      "grid_row": null,
      "grid_template_areas": null,
      "grid_template_columns": null,
      "grid_template_rows": null,
      "height": null,
      "justify_content": null,
      "justify_items": null,
      "left": null,
      "margin": null,
      "max_height": null,
      "max_width": null,
      "min_height": null,
      "min_width": null,
      "object_fit": null,
      "object_position": null,
      "order": null,
      "overflow": null,
      "overflow_x": null,
      "overflow_y": null,
      "padding": null,
      "right": null,
      "top": null,
      "visibility": null,
      "width": null
     }
    },
    "12e4349e1f224c32b35afb738c584c89": {
     "model_module": "@jupyter-widgets/base",
     "model_module_version": "1.2.0",
     "model_name": "LayoutModel",
     "state": {
      "_model_module": "@jupyter-widgets/base",
      "_model_module_version": "1.2.0",
      "_model_name": "LayoutModel",
      "_view_count": null,
      "_view_module": "@jupyter-widgets/base",
      "_view_module_version": "1.2.0",
      "_view_name": "LayoutView",
      "align_content": null,
      "align_items": null,
      "align_self": null,
      "border": null,
      "bottom": null,
      "display": null,
      "flex": null,
      "flex_flow": null,
      "grid_area": null,
      "grid_auto_columns": null,
      "grid_auto_flow": null,
      "grid_auto_rows": null,
      "grid_column": null,
      "grid_gap": null,
      "grid_row": null,
      "grid_template_areas": null,
      "grid_template_columns": null,
      "grid_template_rows": null,
      "height": null,
      "justify_content": null,
      "justify_items": null,
      "left": null,
      "margin": null,
      "max_height": null,
      "max_width": null,
      "min_height": null,
      "min_width": null,
      "object_fit": null,
      "object_position": null,
      "order": null,
      "overflow": null,
      "overflow_x": null,
      "overflow_y": null,
      "padding": null,
      "right": null,
      "top": null,
      "visibility": null,
      "width": null
     }
    },
    "1590f17082ae4b2987351c5a4756fd2a": {
     "model_module": "@jupyter-widgets/controls",
     "model_module_version": "1.5.0",
     "model_name": "DescriptionStyleModel",
     "state": {
      "_model_module": "@jupyter-widgets/controls",
      "_model_module_version": "1.5.0",
      "_model_name": "DescriptionStyleModel",
      "_view_count": null,
      "_view_module": "@jupyter-widgets/base",
      "_view_module_version": "1.2.0",
      "_view_name": "StyleView",
      "description_width": ""
     }
    },
    "1c82b5894e104256b9a66ab2120a884f": {
     "model_module": "@jupyter-widgets/controls",
     "model_module_version": "1.5.0",
     "model_name": "HBoxModel",
     "state": {
      "_dom_classes": [],
      "_model_module": "@jupyter-widgets/controls",
      "_model_module_version": "1.5.0",
      "_model_name": "HBoxModel",
      "_view_count": null,
      "_view_module": "@jupyter-widgets/controls",
      "_view_module_version": "1.5.0",
      "_view_name": "HBoxView",
      "box_style": "",
      "children": [
       "IPY_MODEL_3de4b5230d234d94b4764d9335f385d0",
       "IPY_MODEL_eb0b1b5cdc4a4d618659a5e82d238fe4",
       "IPY_MODEL_adfeb43799534a7eaeef7209dc92496a"
      ],
      "layout": "IPY_MODEL_d3b4af4b7e274b19b734eecf7b50c3d7"
     }
    },
    "218667d6f8d54600a202e64493853ddd": {
     "model_module": "@jupyter-widgets/controls",
     "model_module_version": "1.5.0",
     "model_name": "ProgressStyleModel",
     "state": {
      "_model_module": "@jupyter-widgets/controls",
      "_model_module_version": "1.5.0",
      "_model_name": "ProgressStyleModel",
      "_view_count": null,
      "_view_module": "@jupyter-widgets/base",
      "_view_module_version": "1.2.0",
      "_view_name": "StyleView",
      "bar_color": null,
      "description_width": ""
     }
    },
    "21e71575ee3d420e9631d2c3de2aa20d": {
     "model_module": "@jupyter-widgets/controls",
     "model_module_version": "1.5.0",
     "model_name": "HTMLModel",
     "state": {
      "_dom_classes": [],
      "_model_module": "@jupyter-widgets/controls",
      "_model_module_version": "1.5.0",
      "_model_name": "HTMLModel",
      "_view_count": null,
      "_view_module": "@jupyter-widgets/controls",
      "_view_module_version": "1.5.0",
      "_view_name": "HTMLView",
      "description": "",
      "description_tooltip": null,
      "layout": "IPY_MODEL_a4375b4a66dc40dbb6018dd77c6e5d74",
      "placeholder": "​",
      "style": "IPY_MODEL_c7d37106d60b4aa58f0e9fdf07093497",
      "value": "Downloading (…)lve/main/config.json: 100%"
     }
    },
    "2434567e33e84977a029b1658a8bd679": {
     "model_module": "@jupyter-widgets/controls",
     "model_module_version": "1.5.0",
     "model_name": "HTMLModel",
     "state": {
      "_dom_classes": [],
      "_model_module": "@jupyter-widgets/controls",
      "_model_module_version": "1.5.0",
      "_model_name": "HTMLModel",
      "_view_count": null,
      "_view_module": "@jupyter-widgets/controls",
      "_view_module_version": "1.5.0",
      "_view_name": "HTMLView",
      "description": "",
      "description_tooltip": null,
      "layout": "IPY_MODEL_8efbdae5975648aa8126c51a15ab4689",
      "placeholder": "​",
      "style": "IPY_MODEL_fb43975c59904fb788a7be63f56168fd",
      "value": " 665/665 [00:00&lt;00:00, 16.6kB/s]"
     }
    },
    "26d7fc2cb8444bf2b049ed3db30cea28": {
     "model_module": "@jupyter-widgets/controls",
     "model_module_version": "1.5.0",
     "model_name": "HBoxModel",
     "state": {
      "_dom_classes": [],
      "_model_module": "@jupyter-widgets/controls",
      "_model_module_version": "1.5.0",
      "_model_name": "HBoxModel",
      "_view_count": null,
      "_view_module": "@jupyter-widgets/controls",
      "_view_module_version": "1.5.0",
      "_view_name": "HBoxView",
      "box_style": "",
      "children": [
       "IPY_MODEL_ec9577bb1470481887712cf0bc3ff34e",
       "IPY_MODEL_89b5173a4bfa4495806b4827ab70a047",
       "IPY_MODEL_63b3411ab85f4c8b9c8c54bbf31bd015"
      ],
      "layout": "IPY_MODEL_cf11b6b7ceab45eea6abe1c12dd08ac2"
     }
    },
    "2a13413908f24ca8ae6da6b0f3bd8508": {
     "model_module": "@jupyter-widgets/controls",
     "model_module_version": "1.5.0",
     "model_name": "HTMLModel",
     "state": {
      "_dom_classes": [],
      "_model_module": "@jupyter-widgets/controls",
      "_model_module_version": "1.5.0",
      "_model_name": "HTMLModel",
      "_view_count": null,
      "_view_module": "@jupyter-widgets/controls",
      "_view_module_version": "1.5.0",
      "_view_name": "HTMLView",
      "description": "",
      "description_tooltip": null,
      "layout": "IPY_MODEL_de701273cea0494f9c412d5facb2295a",
      "placeholder": "​",
      "style": "IPY_MODEL_39462eed46564c6c9a862d9c3e974e86",
      "value": " 1.36M/1.36M [00:00&lt;00:00, 20.0MB/s]"
     }
    },
    "2c35fa729cc34ac7b02fc67612f275c7": {
     "model_module": "@jupyter-widgets/controls",
     "model_module_version": "1.5.0",
     "model_name": "DescriptionStyleModel",
     "state": {
      "_model_module": "@jupyter-widgets/controls",
      "_model_module_version": "1.5.0",
      "_model_name": "DescriptionStyleModel",
      "_view_count": null,
      "_view_module": "@jupyter-widgets/base",
      "_view_module_version": "1.2.0",
      "_view_name": "StyleView",
      "description_width": ""
     }
    },
    "33fff3f80af14f7f9958e12c5c98f348": {
     "model_module": "@jupyter-widgets/controls",
     "model_module_version": "1.5.0",
     "model_name": "HBoxModel",
     "state": {
      "_dom_classes": [],
      "_model_module": "@jupyter-widgets/controls",
      "_model_module_version": "1.5.0",
      "_model_name": "HBoxModel",
      "_view_count": null,
      "_view_module": "@jupyter-widgets/controls",
      "_view_module_version": "1.5.0",
      "_view_name": "HBoxView",
      "box_style": "",
      "children": [
       "IPY_MODEL_8b0708da99cd4da3a6da82cb35ce201d",
       "IPY_MODEL_ae62dfc3f5aa4912ab890213eee722a0",
       "IPY_MODEL_2a13413908f24ca8ae6da6b0f3bd8508"
      ],
      "layout": "IPY_MODEL_6bc06ec297e745729948ddc96765d0b1"
     }
    },
    "355b44689b6340c692c0969b73da9619": {
     "model_module": "@jupyter-widgets/base",
     "model_module_version": "1.2.0",
     "model_name": "LayoutModel",
     "state": {
      "_model_module": "@jupyter-widgets/base",
      "_model_module_version": "1.2.0",
      "_model_name": "LayoutModel",
      "_view_count": null,
      "_view_module": "@jupyter-widgets/base",
      "_view_module_version": "1.2.0",
      "_view_name": "LayoutView",
      "align_content": null,
      "align_items": null,
      "align_self": null,
      "border": null,
      "bottom": null,
      "display": null,
      "flex": null,
      "flex_flow": null,
      "grid_area": null,
      "grid_auto_columns": null,
      "grid_auto_flow": null,
      "grid_auto_rows": null,
      "grid_column": null,
      "grid_gap": null,
      "grid_row": null,
      "grid_template_areas": null,
      "grid_template_columns": null,
      "grid_template_rows": null,
      "height": null,
      "justify_content": null,
      "justify_items": null,
      "left": null,
      "margin": null,
      "max_height": null,
      "max_width": null,
      "min_height": null,
      "min_width": null,
      "object_fit": null,
      "object_position": null,
      "order": null,
      "overflow": null,
      "overflow_x": null,
      "overflow_y": null,
      "padding": null,
      "right": null,
      "top": null,
      "visibility": null,
      "width": null
     }
    },
    "3743f1ac6cc14cc180e94c425faa980a": {
     "model_module": "@jupyter-widgets/controls",
     "model_module_version": "1.5.0",
     "model_name": "HBoxModel",
     "state": {
      "_dom_classes": [],
      "_model_module": "@jupyter-widgets/controls",
      "_model_module_version": "1.5.0",
      "_model_name": "HBoxModel",
      "_view_count": null,
      "_view_module": "@jupyter-widgets/controls",
      "_view_module_version": "1.5.0",
      "_view_name": "HBoxView",
      "box_style": "",
      "children": [
       "IPY_MODEL_a03dc40261bb40378c39d1c839b3feb7",
       "IPY_MODEL_4fcc675ac05246e3a48fb5e297f159b5",
       "IPY_MODEL_e2343dc95a2c4d329fc58aaec629ab14"
      ],
      "layout": "IPY_MODEL_6d1374883b394fbb983913ae0e6b9816"
     }
    },
    "39462eed46564c6c9a862d9c3e974e86": {
     "model_module": "@jupyter-widgets/controls",
     "model_module_version": "1.5.0",
     "model_name": "DescriptionStyleModel",
     "state": {
      "_model_module": "@jupyter-widgets/controls",
      "_model_module_version": "1.5.0",
      "_model_name": "DescriptionStyleModel",
      "_view_count": null,
      "_view_module": "@jupyter-widgets/base",
      "_view_module_version": "1.2.0",
      "_view_name": "StyleView",
      "description_width": ""
     }
    },
    "3ada8125ab50465e9b0223385fc8359b": {
     "model_module": "@jupyter-widgets/controls",
     "model_module_version": "1.5.0",
     "model_name": "ProgressStyleModel",
     "state": {
      "_model_module": "@jupyter-widgets/controls",
      "_model_module_version": "1.5.0",
      "_model_name": "ProgressStyleModel",
      "_view_count": null,
      "_view_module": "@jupyter-widgets/base",
      "_view_module_version": "1.2.0",
      "_view_name": "StyleView",
      "bar_color": null,
      "description_width": ""
     }
    },
    "3de4b5230d234d94b4764d9335f385d0": {
     "model_module": "@jupyter-widgets/controls",
     "model_module_version": "1.5.0",
     "model_name": "HTMLModel",
     "state": {
      "_dom_classes": [],
      "_model_module": "@jupyter-widgets/controls",
      "_model_module_version": "1.5.0",
      "_model_name": "HTMLModel",
      "_view_count": null,
      "_view_module": "@jupyter-widgets/controls",
      "_view_module_version": "1.5.0",
      "_view_name": "HTMLView",
      "description": "",
      "description_tooltip": null,
      "layout": "IPY_MODEL_a1b52da2a2f14b9094a3ea7b4b7bce26",
      "placeholder": "​",
      "style": "IPY_MODEL_1590f17082ae4b2987351c5a4756fd2a",
      "value": "Downloading (…)olve/main/merges.txt: 100%"
     }
    },
    "3f6fe5ab4081468db79ce913b6a386cc": {
     "model_module": "@jupyter-widgets/base",
     "model_module_version": "1.2.0",
     "model_name": "LayoutModel",
     "state": {
      "_model_module": "@jupyter-widgets/base",
      "_model_module_version": "1.2.0",
      "_model_name": "LayoutModel",
      "_view_count": null,
      "_view_module": "@jupyter-widgets/base",
      "_view_module_version": "1.2.0",
      "_view_name": "LayoutView",
      "align_content": null,
      "align_items": null,
      "align_self": null,
      "border": null,
      "bottom": null,
      "display": null,
      "flex": null,
      "flex_flow": null,
      "grid_area": null,
      "grid_auto_columns": null,
      "grid_auto_flow": null,
      "grid_auto_rows": null,
      "grid_column": null,
      "grid_gap": null,
      "grid_row": null,
      "grid_template_areas": null,
      "grid_template_columns": null,
      "grid_template_rows": null,
      "height": null,
      "justify_content": null,
      "justify_items": null,
      "left": null,
      "margin": null,
      "max_height": null,
      "max_width": null,
      "min_height": null,
      "min_width": null,
      "object_fit": null,
      "object_position": null,
      "order": null,
      "overflow": null,
      "overflow_x": null,
      "overflow_y": null,
      "padding": null,
      "right": null,
      "top": null,
      "visibility": null,
      "width": null
     }
    },
    "4781e81614f14e3bb8719f8211278c82": {
     "model_module": "@jupyter-widgets/controls",
     "model_module_version": "1.5.0",
     "model_name": "FloatProgressModel",
     "state": {
      "_dom_classes": [],
      "_model_module": "@jupyter-widgets/controls",
      "_model_module_version": "1.5.0",
      "_model_name": "FloatProgressModel",
      "_view_count": null,
      "_view_module": "@jupyter-widgets/controls",
      "_view_module_version": "1.5.0",
      "_view_name": "ProgressView",
      "bar_style": "success",
      "description": "",
      "description_tooltip": null,
      "layout": "IPY_MODEL_50a0c9b276dc4207b6cff26e43598374",
      "max": 548118077,
      "min": 0,
      "orientation": "horizontal",
      "style": "IPY_MODEL_3ada8125ab50465e9b0223385fc8359b",
      "value": 548118077
     }
    },
    "487598fbe67d4ed2a7bb1afdbb3917d1": {
     "model_module": "@jupyter-widgets/controls",
     "model_module_version": "1.5.0",
     "model_name": "DescriptionStyleModel",
     "state": {
      "_model_module": "@jupyter-widgets/controls",
      "_model_module_version": "1.5.0",
      "_model_name": "DescriptionStyleModel",
      "_view_count": null,
      "_view_module": "@jupyter-widgets/base",
      "_view_module_version": "1.2.0",
      "_view_name": "StyleView",
      "description_width": ""
     }
    },
    "4ddcf8ff3dd04ed2bd5e14ba031e80f0": {
     "model_module": "@jupyter-widgets/controls",
     "model_module_version": "1.5.0",
     "model_name": "DescriptionStyleModel",
     "state": {
      "_model_module": "@jupyter-widgets/controls",
      "_model_module_version": "1.5.0",
      "_model_name": "DescriptionStyleModel",
      "_view_count": null,
      "_view_module": "@jupyter-widgets/base",
      "_view_module_version": "1.2.0",
      "_view_name": "StyleView",
      "description_width": ""
     }
    },
    "4fcc675ac05246e3a48fb5e297f159b5": {
     "model_module": "@jupyter-widgets/controls",
     "model_module_version": "1.5.0",
     "model_name": "FloatProgressModel",
     "state": {
      "_dom_classes": [],
      "_model_module": "@jupyter-widgets/controls",
      "_model_module_version": "1.5.0",
      "_model_name": "FloatProgressModel",
      "_view_count": null,
      "_view_module": "@jupyter-widgets/controls",
      "_view_module_version": "1.5.0",
      "_view_name": "ProgressView",
      "bar_style": "success",
      "description": "",
      "description_tooltip": null,
      "layout": "IPY_MODEL_68587b5fd0454d33a1699dc71ef0dbee",
      "max": 124,
      "min": 0,
      "orientation": "horizontal",
      "style": "IPY_MODEL_7a5e230756aa40848c615b1700894bb8",
      "value": 124
     }
    },
    "50a0c9b276dc4207b6cff26e43598374": {
     "model_module": "@jupyter-widgets/base",
     "model_module_version": "1.2.0",
     "model_name": "LayoutModel",
     "state": {
      "_model_module": "@jupyter-widgets/base",
      "_model_module_version": "1.2.0",
      "_model_name": "LayoutModel",
      "_view_count": null,
      "_view_module": "@jupyter-widgets/base",
      "_view_module_version": "1.2.0",
      "_view_name": "LayoutView",
      "align_content": null,
      "align_items": null,
      "align_self": null,
      "border": null,
      "bottom": null,
      "display": null,
      "flex": null,
      "flex_flow": null,
      "grid_area": null,
      "grid_auto_columns": null,
      "grid_auto_flow": null,
      "grid_auto_rows": null,
      "grid_column": null,
      "grid_gap": null,
      "grid_row": null,
      "grid_template_areas": null,
      "grid_template_columns": null,
      "grid_template_rows": null,
      "height": null,
      "justify_content": null,
      "justify_items": null,
      "left": null,
      "margin": null,
      "max_height": null,
      "max_width": null,
      "min_height": null,
      "min_width": null,
      "object_fit": null,
      "object_position": null,
      "order": null,
      "overflow": null,
      "overflow_x": null,
      "overflow_y": null,
      "padding": null,
      "right": null,
      "top": null,
      "visibility": null,
      "width": null
     }
    },
    "5221011e370c4a46ba1b037492e881d4": {
     "model_module": "@jupyter-widgets/controls",
     "model_module_version": "1.5.0",
     "model_name": "ProgressStyleModel",
     "state": {
      "_model_module": "@jupyter-widgets/controls",
      "_model_module_version": "1.5.0",
      "_model_name": "ProgressStyleModel",
      "_view_count": null,
      "_view_module": "@jupyter-widgets/base",
      "_view_module_version": "1.2.0",
      "_view_name": "StyleView",
      "bar_color": null,
      "description_width": ""
     }
    },
    "55c26c326bc149fda88db432fe91882b": {
     "model_module": "@jupyter-widgets/base",
     "model_module_version": "1.2.0",
     "model_name": "LayoutModel",
     "state": {
      "_model_module": "@jupyter-widgets/base",
      "_model_module_version": "1.2.0",
      "_model_name": "LayoutModel",
      "_view_count": null,
      "_view_module": "@jupyter-widgets/base",
      "_view_module_version": "1.2.0",
      "_view_name": "LayoutView",
      "align_content": null,
      "align_items": null,
      "align_self": null,
      "border": null,
      "bottom": null,
      "display": null,
      "flex": null,
      "flex_flow": null,
      "grid_area": null,
      "grid_auto_columns": null,
      "grid_auto_flow": null,
      "grid_auto_rows": null,
      "grid_column": null,
      "grid_gap": null,
      "grid_row": null,
      "grid_template_areas": null,
      "grid_template_columns": null,
      "grid_template_rows": null,
      "height": null,
      "justify_content": null,
      "justify_items": null,
      "left": null,
      "margin": null,
      "max_height": null,
      "max_width": null,
      "min_height": null,
      "min_width": null,
      "object_fit": null,
      "object_position": null,
      "order": null,
      "overflow": null,
      "overflow_x": null,
      "overflow_y": null,
      "padding": null,
      "right": null,
      "top": null,
      "visibility": null,
      "width": null
     }
    },
    "5992bd1e96a64febb17f4cef86fec248": {
     "model_module": "@jupyter-widgets/controls",
     "model_module_version": "1.5.0",
     "model_name": "HBoxModel",
     "state": {
      "_dom_classes": [],
      "_model_module": "@jupyter-widgets/controls",
      "_model_module_version": "1.5.0",
      "_model_name": "HBoxModel",
      "_view_count": null,
      "_view_module": "@jupyter-widgets/controls",
      "_view_module_version": "1.5.0",
      "_view_name": "HBoxView",
      "box_style": "",
      "children": [
       "IPY_MODEL_f204e6ff280741adb9b95f74e8419c30",
       "IPY_MODEL_4781e81614f14e3bb8719f8211278c82",
       "IPY_MODEL_66f1048288c642ce97cf23f62a01250d"
      ],
      "layout": "IPY_MODEL_0ea8dcb0d4c64390b7178cddcb1598ee"
     }
    },
    "5f0270c8749f40d08fde1a3d0cd5e3e0": {
     "model_module": "@jupyter-widgets/base",
     "model_module_version": "1.2.0",
     "model_name": "LayoutModel",
     "state": {
      "_model_module": "@jupyter-widgets/base",
      "_model_module_version": "1.2.0",
      "_model_name": "LayoutModel",
      "_view_count": null,
      "_view_module": "@jupyter-widgets/base",
      "_view_module_version": "1.2.0",
      "_view_name": "LayoutView",
      "align_content": null,
      "align_items": null,
      "align_self": null,
      "border": null,
      "bottom": null,
      "display": null,
      "flex": null,
      "flex_flow": null,
      "grid_area": null,
      "grid_auto_columns": null,
      "grid_auto_flow": null,
      "grid_auto_rows": null,
      "grid_column": null,
      "grid_gap": null,
      "grid_row": null,
      "grid_template_areas": null,
      "grid_template_columns": null,
      "grid_template_rows": null,
      "height": null,
      "justify_content": null,
      "justify_items": null,
      "left": null,
      "margin": null,
      "max_height": null,
      "max_width": null,
      "min_height": null,
      "min_width": null,
      "object_fit": null,
      "object_position": null,
      "order": null,
      "overflow": null,
      "overflow_x": null,
      "overflow_y": null,
      "padding": null,
      "right": null,
      "top": null,
      "visibility": null,
      "width": null
     }
    },
    "63b3411ab85f4c8b9c8c54bbf31bd015": {
     "model_module": "@jupyter-widgets/controls",
     "model_module_version": "1.5.0",
     "model_name": "HTMLModel",
     "state": {
      "_dom_classes": [],
      "_model_module": "@jupyter-widgets/controls",
      "_model_module_version": "1.5.0",
      "_model_name": "HTMLModel",
      "_view_count": null,
      "_view_module": "@jupyter-widgets/controls",
      "_view_module_version": "1.5.0",
      "_view_name": "HTMLView",
      "description": "",
      "description_tooltip": null,
      "layout": "IPY_MODEL_c4dc4b21a9b1443687c519bd685122d1",
      "placeholder": "​",
      "style": "IPY_MODEL_8c3678af621b4dea8ee95a6445caa348",
      "value": " 1.04M/1.04M [00:00&lt;00:00, 6.54MB/s]"
     }
    },
    "66f1048288c642ce97cf23f62a01250d": {
     "model_module": "@jupyter-widgets/controls",
     "model_module_version": "1.5.0",
     "model_name": "HTMLModel",
     "state": {
      "_dom_classes": [],
      "_model_module": "@jupyter-widgets/controls",
      "_model_module_version": "1.5.0",
      "_model_name": "HTMLModel",
      "_view_count": null,
      "_view_module": "@jupyter-widgets/controls",
      "_view_module_version": "1.5.0",
      "_view_name": "HTMLView",
      "description": "",
      "description_tooltip": null,
      "layout": "IPY_MODEL_55c26c326bc149fda88db432fe91882b",
      "placeholder": "​",
      "style": "IPY_MODEL_ff1f06e2cb6540d7b176646ff8337428",
      "value": " 548M/548M [00:06&lt;00:00, 94.9MB/s]"
     }
    },
    "67c08397b8aa4c7da958e9ec244366bc": {
     "model_module": "@jupyter-widgets/base",
     "model_module_version": "1.2.0",
     "model_name": "LayoutModel",
     "state": {
      "_model_module": "@jupyter-widgets/base",
      "_model_module_version": "1.2.0",
      "_model_name": "LayoutModel",
      "_view_count": null,
      "_view_module": "@jupyter-widgets/base",
      "_view_module_version": "1.2.0",
      "_view_name": "LayoutView",
      "align_content": null,
      "align_items": null,
      "align_self": null,
      "border": null,
      "bottom": null,
      "display": null,
      "flex": null,
      "flex_flow": null,
      "grid_area": null,
      "grid_auto_columns": null,
      "grid_auto_flow": null,
      "grid_auto_rows": null,
      "grid_column": null,
      "grid_gap": null,
      "grid_row": null,
      "grid_template_areas": null,
      "grid_template_columns": null,
      "grid_template_rows": null,
      "height": null,
      "justify_content": null,
      "justify_items": null,
      "left": null,
      "margin": null,
      "max_height": null,
      "max_width": null,
      "min_height": null,
      "min_width": null,
      "object_fit": null,
      "object_position": null,
      "order": null,
      "overflow": null,
      "overflow_x": null,
      "overflow_y": null,
      "padding": null,
      "right": null,
      "top": null,
      "visibility": null,
      "width": null
     }
    },
    "68587b5fd0454d33a1699dc71ef0dbee": {
     "model_module": "@jupyter-widgets/base",
     "model_module_version": "1.2.0",
     "model_name": "LayoutModel",
     "state": {
      "_model_module": "@jupyter-widgets/base",
      "_model_module_version": "1.2.0",
      "_model_name": "LayoutModel",
      "_view_count": null,
      "_view_module": "@jupyter-widgets/base",
      "_view_module_version": "1.2.0",
      "_view_name": "LayoutView",
      "align_content": null,
      "align_items": null,
      "align_self": null,
      "border": null,
      "bottom": null,
      "display": null,
      "flex": null,
      "flex_flow": null,
      "grid_area": null,
      "grid_auto_columns": null,
      "grid_auto_flow": null,
      "grid_auto_rows": null,
      "grid_column": null,
      "grid_gap": null,
      "grid_row": null,
      "grid_template_areas": null,
      "grid_template_columns": null,
      "grid_template_rows": null,
      "height": null,
      "justify_content": null,
      "justify_items": null,
      "left": null,
      "margin": null,
      "max_height": null,
      "max_width": null,
      "min_height": null,
      "min_width": null,
      "object_fit": null,
      "object_position": null,
      "order": null,
      "overflow": null,
      "overflow_x": null,
      "overflow_y": null,
      "padding": null,
      "right": null,
      "top": null,
      "visibility": null,
      "width": null
     }
    },
    "6bc06ec297e745729948ddc96765d0b1": {
     "model_module": "@jupyter-widgets/base",
     "model_module_version": "1.2.0",
     "model_name": "LayoutModel",
     "state": {
      "_model_module": "@jupyter-widgets/base",
      "_model_module_version": "1.2.0",
      "_model_name": "LayoutModel",
      "_view_count": null,
      "_view_module": "@jupyter-widgets/base",
      "_view_module_version": "1.2.0",
      "_view_name": "LayoutView",
      "align_content": null,
      "align_items": null,
      "align_self": null,
      "border": null,
      "bottom": null,
      "display": null,
      "flex": null,
      "flex_flow": null,
      "grid_area": null,
      "grid_auto_columns": null,
      "grid_auto_flow": null,
      "grid_auto_rows": null,
      "grid_column": null,
      "grid_gap": null,
      "grid_row": null,
      "grid_template_areas": null,
      "grid_template_columns": null,
      "grid_template_rows": null,
      "height": null,
      "justify_content": null,
      "justify_items": null,
      "left": null,
      "margin": null,
      "max_height": null,
      "max_width": null,
      "min_height": null,
      "min_width": null,
      "object_fit": null,
      "object_position": null,
      "order": null,
      "overflow": null,
      "overflow_x": null,
      "overflow_y": null,
      "padding": null,
      "right": null,
      "top": null,
      "visibility": null,
      "width": null
     }
    },
    "6d1374883b394fbb983913ae0e6b9816": {
     "model_module": "@jupyter-widgets/base",
     "model_module_version": "1.2.0",
     "model_name": "LayoutModel",
     "state": {
      "_model_module": "@jupyter-widgets/base",
      "_model_module_version": "1.2.0",
      "_model_name": "LayoutModel",
      "_view_count": null,
      "_view_module": "@jupyter-widgets/base",
      "_view_module_version": "1.2.0",
      "_view_name": "LayoutView",
      "align_content": null,
      "align_items": null,
      "align_self": null,
      "border": null,
      "bottom": null,
      "display": null,
      "flex": null,
      "flex_flow": null,
      "grid_area": null,
      "grid_auto_columns": null,
      "grid_auto_flow": null,
      "grid_auto_rows": null,
      "grid_column": null,
      "grid_gap": null,
      "grid_row": null,
      "grid_template_areas": null,
      "grid_template_columns": null,
      "grid_template_rows": null,
      "height": null,
      "justify_content": null,
      "justify_items": null,
      "left": null,
      "margin": null,
      "max_height": null,
      "max_width": null,
      "min_height": null,
      "min_width": null,
      "object_fit": null,
      "object_position": null,
      "order": null,
      "overflow": null,
      "overflow_x": null,
      "overflow_y": null,
      "padding": null,
      "right": null,
      "top": null,
      "visibility": null,
      "width": null
     }
    },
    "7a5e230756aa40848c615b1700894bb8": {
     "model_module": "@jupyter-widgets/controls",
     "model_module_version": "1.5.0",
     "model_name": "ProgressStyleModel",
     "state": {
      "_model_module": "@jupyter-widgets/controls",
      "_model_module_version": "1.5.0",
      "_model_name": "ProgressStyleModel",
      "_view_count": null,
      "_view_module": "@jupyter-widgets/base",
      "_view_module_version": "1.2.0",
      "_view_name": "StyleView",
      "bar_color": null,
      "description_width": ""
     }
    },
    "893222e9fdb54738ac56b04c0b553e5a": {
     "model_module": "@jupyter-widgets/controls",
     "model_module_version": "1.5.0",
     "model_name": "DescriptionStyleModel",
     "state": {
      "_model_module": "@jupyter-widgets/controls",
      "_model_module_version": "1.5.0",
      "_model_name": "DescriptionStyleModel",
      "_view_count": null,
      "_view_module": "@jupyter-widgets/base",
      "_view_module_version": "1.2.0",
      "_view_name": "StyleView",
      "description_width": ""
     }
    },
    "89b5173a4bfa4495806b4827ab70a047": {
     "model_module": "@jupyter-widgets/controls",
     "model_module_version": "1.5.0",
     "model_name": "FloatProgressModel",
     "state": {
      "_dom_classes": [],
      "_model_module": "@jupyter-widgets/controls",
      "_model_module_version": "1.5.0",
      "_model_name": "FloatProgressModel",
      "_view_count": null,
      "_view_module": "@jupyter-widgets/controls",
      "_view_module_version": "1.5.0",
      "_view_name": "ProgressView",
      "bar_style": "success",
      "description": "",
      "description_tooltip": null,
      "layout": "IPY_MODEL_930c99fd89fe40e08c3359d7127030a7",
      "max": 1042301,
      "min": 0,
      "orientation": "horizontal",
      "style": "IPY_MODEL_218667d6f8d54600a202e64493853ddd",
      "value": 1042301
     }
    },
    "8b0708da99cd4da3a6da82cb35ce201d": {
     "model_module": "@jupyter-widgets/controls",
     "model_module_version": "1.5.0",
     "model_name": "HTMLModel",
     "state": {
      "_dom_classes": [],
      "_model_module": "@jupyter-widgets/controls",
      "_model_module_version": "1.5.0",
      "_model_name": "HTMLModel",
      "_view_count": null,
      "_view_module": "@jupyter-widgets/controls",
      "_view_module_version": "1.5.0",
      "_view_name": "HTMLView",
      "description": "",
      "description_tooltip": null,
      "layout": "IPY_MODEL_d23d18b6f5e14862a612eb622eaf2eb2",
      "placeholder": "​",
      "style": "IPY_MODEL_893222e9fdb54738ac56b04c0b553e5a",
      "value": "Downloading (…)/main/tokenizer.json: 100%"
     }
    },
    "8c3678af621b4dea8ee95a6445caa348": {
     "model_module": "@jupyter-widgets/controls",
     "model_module_version": "1.5.0",
     "model_name": "DescriptionStyleModel",
     "state": {
      "_model_module": "@jupyter-widgets/controls",
      "_model_module_version": "1.5.0",
      "_model_name": "DescriptionStyleModel",
      "_view_count": null,
      "_view_module": "@jupyter-widgets/base",
      "_view_module_version": "1.2.0",
      "_view_name": "StyleView",
      "description_width": ""
     }
    },
    "8efbdae5975648aa8126c51a15ab4689": {
     "model_module": "@jupyter-widgets/base",
     "model_module_version": "1.2.0",
     "model_name": "LayoutModel",
     "state": {
      "_model_module": "@jupyter-widgets/base",
      "_model_module_version": "1.2.0",
      "_model_name": "LayoutModel",
      "_view_count": null,
      "_view_module": "@jupyter-widgets/base",
      "_view_module_version": "1.2.0",
      "_view_name": "LayoutView",
      "align_content": null,
      "align_items": null,
      "align_self": null,
      "border": null,
      "bottom": null,
      "display": null,
      "flex": null,
      "flex_flow": null,
      "grid_area": null,
      "grid_auto_columns": null,
      "grid_auto_flow": null,
      "grid_auto_rows": null,
      "grid_column": null,
      "grid_gap": null,
      "grid_row": null,
      "grid_template_areas": null,
      "grid_template_columns": null,
      "grid_template_rows": null,
      "height": null,
      "justify_content": null,
      "justify_items": null,
      "left": null,
      "margin": null,
      "max_height": null,
      "max_width": null,
      "min_height": null,
      "min_width": null,
      "object_fit": null,
      "object_position": null,
      "order": null,
      "overflow": null,
      "overflow_x": null,
      "overflow_y": null,
      "padding": null,
      "right": null,
      "top": null,
      "visibility": null,
      "width": null
     }
    },
    "930c99fd89fe40e08c3359d7127030a7": {
     "model_module": "@jupyter-widgets/base",
     "model_module_version": "1.2.0",
     "model_name": "LayoutModel",
     "state": {
      "_model_module": "@jupyter-widgets/base",
      "_model_module_version": "1.2.0",
      "_model_name": "LayoutModel",
      "_view_count": null,
      "_view_module": "@jupyter-widgets/base",
      "_view_module_version": "1.2.0",
      "_view_name": "LayoutView",
      "align_content": null,
      "align_items": null,
      "align_self": null,
      "border": null,
      "bottom": null,
      "display": null,
      "flex": null,
      "flex_flow": null,
      "grid_area": null,
      "grid_auto_columns": null,
      "grid_auto_flow": null,
      "grid_auto_rows": null,
      "grid_column": null,
      "grid_gap": null,
      "grid_row": null,
      "grid_template_areas": null,
      "grid_template_columns": null,
      "grid_template_rows": null,
      "height": null,
      "justify_content": null,
      "justify_items": null,
      "left": null,
      "margin": null,
      "max_height": null,
      "max_width": null,
      "min_height": null,
      "min_width": null,
      "object_fit": null,
      "object_position": null,
      "order": null,
      "overflow": null,
      "overflow_x": null,
      "overflow_y": null,
      "padding": null,
      "right": null,
      "top": null,
      "visibility": null,
      "width": null
     }
    },
    "9af6afcead684057adb693c2a6d4d320": {
     "model_module": "@jupyter-widgets/base",
     "model_module_version": "1.2.0",
     "model_name": "LayoutModel",
     "state": {
      "_model_module": "@jupyter-widgets/base",
      "_model_module_version": "1.2.0",
      "_model_name": "LayoutModel",
      "_view_count": null,
      "_view_module": "@jupyter-widgets/base",
      "_view_module_version": "1.2.0",
      "_view_name": "LayoutView",
      "align_content": null,
      "align_items": null,
      "align_self": null,
      "border": null,
      "bottom": null,
      "display": null,
      "flex": null,
      "flex_flow": null,
      "grid_area": null,
      "grid_auto_columns": null,
      "grid_auto_flow": null,
      "grid_auto_rows": null,
      "grid_column": null,
      "grid_gap": null,
      "grid_row": null,
      "grid_template_areas": null,
      "grid_template_columns": null,
      "grid_template_rows": null,
      "height": null,
      "justify_content": null,
      "justify_items": null,
      "left": null,
      "margin": null,
      "max_height": null,
      "max_width": null,
      "min_height": null,
      "min_width": null,
      "object_fit": null,
      "object_position": null,
      "order": null,
      "overflow": null,
      "overflow_x": null,
      "overflow_y": null,
      "padding": null,
      "right": null,
      "top": null,
      "visibility": null,
      "width": null
     }
    },
    "a03dc40261bb40378c39d1c839b3feb7": {
     "model_module": "@jupyter-widgets/controls",
     "model_module_version": "1.5.0",
     "model_name": "HTMLModel",
     "state": {
      "_dom_classes": [],
      "_model_module": "@jupyter-widgets/controls",
      "_model_module_version": "1.5.0",
      "_model_name": "HTMLModel",
      "_view_count": null,
      "_view_module": "@jupyter-widgets/controls",
      "_view_module_version": "1.5.0",
      "_view_name": "HTMLView",
      "description": "",
      "description_tooltip": null,
      "layout": "IPY_MODEL_3f6fe5ab4081468db79ce913b6a386cc",
      "placeholder": "​",
      "style": "IPY_MODEL_487598fbe67d4ed2a7bb1afdbb3917d1",
      "value": "Downloading (…)neration_config.json: 100%"
     }
    },
    "a0d143a6cc2241dfbd02badc6aa1e09e": {
     "model_module": "@jupyter-widgets/controls",
     "model_module_version": "1.5.0",
     "model_name": "FloatProgressModel",
     "state": {
      "_dom_classes": [],
      "_model_module": "@jupyter-widgets/controls",
      "_model_module_version": "1.5.0",
      "_model_name": "FloatProgressModel",
      "_view_count": null,
      "_view_module": "@jupyter-widgets/controls",
      "_view_module_version": "1.5.0",
      "_view_name": "ProgressView",
      "bar_style": "success",
      "description": "",
      "description_tooltip": null,
      "layout": "IPY_MODEL_c7eef3e139f844d2a24994b805e2a7e8",
      "max": 665,
      "min": 0,
      "orientation": "horizontal",
      "style": "IPY_MODEL_f0d3ed603fde4fed9b4fac7727c8b5f1",
      "value": 665
     }
    },
    "a1b52da2a2f14b9094a3ea7b4b7bce26": {
     "model_module": "@jupyter-widgets/base",
     "model_module_version": "1.2.0",
     "model_name": "LayoutModel",
     "state": {
      "_model_module": "@jupyter-widgets/base",
      "_model_module_version": "1.2.0",
      "_model_name": "LayoutModel",
      "_view_count": null,
      "_view_module": "@jupyter-widgets/base",
      "_view_module_version": "1.2.0",
      "_view_name": "LayoutView",
      "align_content": null,
      "align_items": null,
      "align_self": null,
      "border": null,
      "bottom": null,
      "display": null,
      "flex": null,
      "flex_flow": null,
      "grid_area": null,
      "grid_auto_columns": null,
      "grid_auto_flow": null,
      "grid_auto_rows": null,
      "grid_column": null,
      "grid_gap": null,
      "grid_row": null,
      "grid_template_areas": null,
      "grid_template_columns": null,
      "grid_template_rows": null,
      "height": null,
      "justify_content": null,
      "justify_items": null,
      "left": null,
      "margin": null,
      "max_height": null,
      "max_width": null,
      "min_height": null,
      "min_width": null,
      "object_fit": null,
      "object_position": null,
      "order": null,
      "overflow": null,
      "overflow_x": null,
      "overflow_y": null,
      "padding": null,
      "right": null,
      "top": null,
      "visibility": null,
      "width": null
     }
    },
    "a4375b4a66dc40dbb6018dd77c6e5d74": {
     "model_module": "@jupyter-widgets/base",
     "model_module_version": "1.2.0",
     "model_name": "LayoutModel",
     "state": {
      "_model_module": "@jupyter-widgets/base",
      "_model_module_version": "1.2.0",
      "_model_name": "LayoutModel",
      "_view_count": null,
      "_view_module": "@jupyter-widgets/base",
      "_view_module_version": "1.2.0",
      "_view_name": "LayoutView",
      "align_content": null,
      "align_items": null,
      "align_self": null,
      "border": null,
      "bottom": null,
      "display": null,
      "flex": null,
      "flex_flow": null,
      "grid_area": null,
      "grid_auto_columns": null,
      "grid_auto_flow": null,
      "grid_auto_rows": null,
      "grid_column": null,
      "grid_gap": null,
      "grid_row": null,
      "grid_template_areas": null,
      "grid_template_columns": null,
      "grid_template_rows": null,
      "height": null,
      "justify_content": null,
      "justify_items": null,
      "left": null,
      "margin": null,
      "max_height": null,
      "max_width": null,
      "min_height": null,
      "min_width": null,
      "object_fit": null,
      "object_position": null,
      "order": null,
      "overflow": null,
      "overflow_x": null,
      "overflow_y": null,
      "padding": null,
      "right": null,
      "top": null,
      "visibility": null,
      "width": null
     }
    },
    "adfeb43799534a7eaeef7209dc92496a": {
     "model_module": "@jupyter-widgets/controls",
     "model_module_version": "1.5.0",
     "model_name": "HTMLModel",
     "state": {
      "_dom_classes": [],
      "_model_module": "@jupyter-widgets/controls",
      "_model_module_version": "1.5.0",
      "_model_name": "HTMLModel",
      "_view_count": null,
      "_view_module": "@jupyter-widgets/controls",
      "_view_module_version": "1.5.0",
      "_view_name": "HTMLView",
      "description": "",
      "description_tooltip": null,
      "layout": "IPY_MODEL_67c08397b8aa4c7da958e9ec244366bc",
      "placeholder": "​",
      "style": "IPY_MODEL_4ddcf8ff3dd04ed2bd5e14ba031e80f0",
      "value": " 456k/456k [00:00&lt;00:00, 9.29MB/s]"
     }
    },
    "ae62dfc3f5aa4912ab890213eee722a0": {
     "model_module": "@jupyter-widgets/controls",
     "model_module_version": "1.5.0",
     "model_name": "FloatProgressModel",
     "state": {
      "_dom_classes": [],
      "_model_module": "@jupyter-widgets/controls",
      "_model_module_version": "1.5.0",
      "_model_name": "FloatProgressModel",
      "_view_count": null,
      "_view_module": "@jupyter-widgets/controls",
      "_view_module_version": "1.5.0",
      "_view_name": "ProgressView",
      "bar_style": "success",
      "description": "",
      "description_tooltip": null,
      "layout": "IPY_MODEL_12e4349e1f224c32b35afb738c584c89",
      "max": 1355256,
      "min": 0,
      "orientation": "horizontal",
      "style": "IPY_MODEL_5221011e370c4a46ba1b037492e881d4",
      "value": 1355256
     }
    },
    "b0ebb03b87574c889becc099c9f1f4bf": {
     "model_module": "@jupyter-widgets/base",
     "model_module_version": "1.2.0",
     "model_name": "LayoutModel",
     "state": {
      "_model_module": "@jupyter-widgets/base",
      "_model_module_version": "1.2.0",
      "_model_name": "LayoutModel",
      "_view_count": null,
      "_view_module": "@jupyter-widgets/base",
      "_view_module_version": "1.2.0",
      "_view_name": "LayoutView",
      "align_content": null,
      "align_items": null,
      "align_self": null,
      "border": null,
      "bottom": null,
      "display": null,
      "flex": null,
      "flex_flow": null,
      "grid_area": null,
      "grid_auto_columns": null,
      "grid_auto_flow": null,
      "grid_auto_rows": null,
      "grid_column": null,
      "grid_gap": null,
      "grid_row": null,
      "grid_template_areas": null,
      "grid_template_columns": null,
      "grid_template_rows": null,
      "height": null,
      "justify_content": null,
      "justify_items": null,
      "left": null,
      "margin": null,
      "max_height": null,
      "max_width": null,
      "min_height": null,
      "min_width": null,
      "object_fit": null,
      "object_position": null,
      "order": null,
      "overflow": null,
      "overflow_x": null,
      "overflow_y": null,
      "padding": null,
      "right": null,
      "top": null,
      "visibility": null,
      "width": null
     }
    },
    "c4dc4b21a9b1443687c519bd685122d1": {
     "model_module": "@jupyter-widgets/base",
     "model_module_version": "1.2.0",
     "model_name": "LayoutModel",
     "state": {
      "_model_module": "@jupyter-widgets/base",
      "_model_module_version": "1.2.0",
      "_model_name": "LayoutModel",
      "_view_count": null,
      "_view_module": "@jupyter-widgets/base",
      "_view_module_version": "1.2.0",
      "_view_name": "LayoutView",
      "align_content": null,
      "align_items": null,
      "align_self": null,
      "border": null,
      "bottom": null,
      "display": null,
      "flex": null,
      "flex_flow": null,
      "grid_area": null,
      "grid_auto_columns": null,
      "grid_auto_flow": null,
      "grid_auto_rows": null,
      "grid_column": null,
      "grid_gap": null,
      "grid_row": null,
      "grid_template_areas": null,
      "grid_template_columns": null,
      "grid_template_rows": null,
      "height": null,
      "justify_content": null,
      "justify_items": null,
      "left": null,
      "margin": null,
      "max_height": null,
      "max_width": null,
      "min_height": null,
      "min_width": null,
      "object_fit": null,
      "object_position": null,
      "order": null,
      "overflow": null,
      "overflow_x": null,
      "overflow_y": null,
      "padding": null,
      "right": null,
      "top": null,
      "visibility": null,
      "width": null
     }
    },
    "c7d37106d60b4aa58f0e9fdf07093497": {
     "model_module": "@jupyter-widgets/controls",
     "model_module_version": "1.5.0",
     "model_name": "DescriptionStyleModel",
     "state": {
      "_model_module": "@jupyter-widgets/controls",
      "_model_module_version": "1.5.0",
      "_model_name": "DescriptionStyleModel",
      "_view_count": null,
      "_view_module": "@jupyter-widgets/base",
      "_view_module_version": "1.2.0",
      "_view_name": "StyleView",
      "description_width": ""
     }
    },
    "c7eef3e139f844d2a24994b805e2a7e8": {
     "model_module": "@jupyter-widgets/base",
     "model_module_version": "1.2.0",
     "model_name": "LayoutModel",
     "state": {
      "_model_module": "@jupyter-widgets/base",
      "_model_module_version": "1.2.0",
      "_model_name": "LayoutModel",
      "_view_count": null,
      "_view_module": "@jupyter-widgets/base",
      "_view_module_version": "1.2.0",
      "_view_name": "LayoutView",
      "align_content": null,
      "align_items": null,
      "align_self": null,
      "border": null,
      "bottom": null,
      "display": null,
      "flex": null,
      "flex_flow": null,
      "grid_area": null,
      "grid_auto_columns": null,
      "grid_auto_flow": null,
      "grid_auto_rows": null,
      "grid_column": null,
      "grid_gap": null,
      "grid_row": null,
      "grid_template_areas": null,
      "grid_template_columns": null,
      "grid_template_rows": null,
      "height": null,
      "justify_content": null,
      "justify_items": null,
      "left": null,
      "margin": null,
      "max_height": null,
      "max_width": null,
      "min_height": null,
      "min_width": null,
      "object_fit": null,
      "object_position": null,
      "order": null,
      "overflow": null,
      "overflow_x": null,
      "overflow_y": null,
      "padding": null,
      "right": null,
      "top": null,
      "visibility": null,
      "width": null
     }
    },
    "c956f2d9388c4a03929c3243ac7caa56": {
     "model_module": "@jupyter-widgets/base",
     "model_module_version": "1.2.0",
     "model_name": "LayoutModel",
     "state": {
      "_model_module": "@jupyter-widgets/base",
      "_model_module_version": "1.2.0",
      "_model_name": "LayoutModel",
      "_view_count": null,
      "_view_module": "@jupyter-widgets/base",
      "_view_module_version": "1.2.0",
      "_view_name": "LayoutView",
      "align_content": null,
      "align_items": null,
      "align_self": null,
      "border": null,
      "bottom": null,
      "display": null,
      "flex": null,
      "flex_flow": null,
      "grid_area": null,
      "grid_auto_columns": null,
      "grid_auto_flow": null,
      "grid_auto_rows": null,
      "grid_column": null,
      "grid_gap": null,
      "grid_row": null,
      "grid_template_areas": null,
      "grid_template_columns": null,
      "grid_template_rows": null,
      "height": null,
      "justify_content": null,
      "justify_items": null,
      "left": null,
      "margin": null,
      "max_height": null,
      "max_width": null,
      "min_height": null,
      "min_width": null,
      "object_fit": null,
      "object_position": null,
      "order": null,
      "overflow": null,
      "overflow_x": null,
      "overflow_y": null,
      "padding": null,
      "right": null,
      "top": null,
      "visibility": null,
      "width": null
     }
    },
    "ce057a6b4c2b4f9f80bb3c8b660c89f3": {
     "model_module": "@jupyter-widgets/controls",
     "model_module_version": "1.5.0",
     "model_name": "HBoxModel",
     "state": {
      "_dom_classes": [],
      "_model_module": "@jupyter-widgets/controls",
      "_model_module_version": "1.5.0",
      "_model_name": "HBoxModel",
      "_view_count": null,
      "_view_module": "@jupyter-widgets/controls",
      "_view_module_version": "1.5.0",
      "_view_name": "HBoxView",
      "box_style": "",
      "children": [
       "IPY_MODEL_21e71575ee3d420e9631d2c3de2aa20d",
       "IPY_MODEL_a0d143a6cc2241dfbd02badc6aa1e09e",
       "IPY_MODEL_2434567e33e84977a029b1658a8bd679"
      ],
      "layout": "IPY_MODEL_c956f2d9388c4a03929c3243ac7caa56"
     }
    },
    "cf11b6b7ceab45eea6abe1c12dd08ac2": {
     "model_module": "@jupyter-widgets/base",
     "model_module_version": "1.2.0",
     "model_name": "LayoutModel",
     "state": {
      "_model_module": "@jupyter-widgets/base",
      "_model_module_version": "1.2.0",
      "_model_name": "LayoutModel",
      "_view_count": null,
      "_view_module": "@jupyter-widgets/base",
      "_view_module_version": "1.2.0",
      "_view_name": "LayoutView",
      "align_content": null,
      "align_items": null,
      "align_self": null,
      "border": null,
      "bottom": null,
      "display": null,
      "flex": null,
      "flex_flow": null,
      "grid_area": null,
      "grid_auto_columns": null,
      "grid_auto_flow": null,
      "grid_auto_rows": null,
      "grid_column": null,
      "grid_gap": null,
      "grid_row": null,
      "grid_template_areas": null,
      "grid_template_columns": null,
      "grid_template_rows": null,
      "height": null,
      "justify_content": null,
      "justify_items": null,
      "left": null,
      "margin": null,
      "max_height": null,
      "max_width": null,
      "min_height": null,
      "min_width": null,
      "object_fit": null,
      "object_position": null,
      "order": null,
      "overflow": null,
      "overflow_x": null,
      "overflow_y": null,
      "padding": null,
      "right": null,
      "top": null,
      "visibility": null,
      "width": null
     }
    },
    "d23d18b6f5e14862a612eb622eaf2eb2": {
     "model_module": "@jupyter-widgets/base",
     "model_module_version": "1.2.0",
     "model_name": "LayoutModel",
     "state": {
      "_model_module": "@jupyter-widgets/base",
      "_model_module_version": "1.2.0",
      "_model_name": "LayoutModel",
      "_view_count": null,
      "_view_module": "@jupyter-widgets/base",
      "_view_module_version": "1.2.0",
      "_view_name": "LayoutView",
      "align_content": null,
      "align_items": null,
      "align_self": null,
      "border": null,
      "bottom": null,
      "display": null,
      "flex": null,
      "flex_flow": null,
      "grid_area": null,
      "grid_auto_columns": null,
      "grid_auto_flow": null,
      "grid_auto_rows": null,
      "grid_column": null,
      "grid_gap": null,
      "grid_row": null,
      "grid_template_areas": null,
      "grid_template_columns": null,
      "grid_template_rows": null,
      "height": null,
      "justify_content": null,
      "justify_items": null,
      "left": null,
      "margin": null,
      "max_height": null,
      "max_width": null,
      "min_height": null,
      "min_width": null,
      "object_fit": null,
      "object_position": null,
      "order": null,
      "overflow": null,
      "overflow_x": null,
      "overflow_y": null,
      "padding": null,
      "right": null,
      "top": null,
      "visibility": null,
      "width": null
     }
    },
    "d3b4af4b7e274b19b734eecf7b50c3d7": {
     "model_module": "@jupyter-widgets/base",
     "model_module_version": "1.2.0",
     "model_name": "LayoutModel",
     "state": {
      "_model_module": "@jupyter-widgets/base",
      "_model_module_version": "1.2.0",
      "_model_name": "LayoutModel",
      "_view_count": null,
      "_view_module": "@jupyter-widgets/base",
      "_view_module_version": "1.2.0",
      "_view_name": "LayoutView",
      "align_content": null,
      "align_items": null,
      "align_self": null,
      "border": null,
      "bottom": null,
      "display": null,
      "flex": null,
      "flex_flow": null,
      "grid_area": null,
      "grid_auto_columns": null,
      "grid_auto_flow": null,
      "grid_auto_rows": null,
      "grid_column": null,
      "grid_gap": null,
      "grid_row": null,
      "grid_template_areas": null,
      "grid_template_columns": null,
      "grid_template_rows": null,
      "height": null,
      "justify_content": null,
      "justify_items": null,
      "left": null,
      "margin": null,
      "max_height": null,
      "max_width": null,
      "min_height": null,
      "min_width": null,
      "object_fit": null,
      "object_position": null,
      "order": null,
      "overflow": null,
      "overflow_x": null,
      "overflow_y": null,
      "padding": null,
      "right": null,
      "top": null,
      "visibility": null,
      "width": null
     }
    },
    "de701273cea0494f9c412d5facb2295a": {
     "model_module": "@jupyter-widgets/base",
     "model_module_version": "1.2.0",
     "model_name": "LayoutModel",
     "state": {
      "_model_module": "@jupyter-widgets/base",
      "_model_module_version": "1.2.0",
      "_model_name": "LayoutModel",
      "_view_count": null,
      "_view_module": "@jupyter-widgets/base",
      "_view_module_version": "1.2.0",
      "_view_name": "LayoutView",
      "align_content": null,
      "align_items": null,
      "align_self": null,
      "border": null,
      "bottom": null,
      "display": null,
      "flex": null,
      "flex_flow": null,
      "grid_area": null,
      "grid_auto_columns": null,
      "grid_auto_flow": null,
      "grid_auto_rows": null,
      "grid_column": null,
      "grid_gap": null,
      "grid_row": null,
      "grid_template_areas": null,
      "grid_template_columns": null,
      "grid_template_rows": null,
      "height": null,
      "justify_content": null,
      "justify_items": null,
      "left": null,
      "margin": null,
      "max_height": null,
      "max_width": null,
      "min_height": null,
      "min_width": null,
      "object_fit": null,
      "object_position": null,
      "order": null,
      "overflow": null,
      "overflow_x": null,
      "overflow_y": null,
      "padding": null,
      "right": null,
      "top": null,
      "visibility": null,
      "width": null
     }
    },
    "e2343dc95a2c4d329fc58aaec629ab14": {
     "model_module": "@jupyter-widgets/controls",
     "model_module_version": "1.5.0",
     "model_name": "HTMLModel",
     "state": {
      "_dom_classes": [],
      "_model_module": "@jupyter-widgets/controls",
      "_model_module_version": "1.5.0",
      "_model_name": "HTMLModel",
      "_view_count": null,
      "_view_module": "@jupyter-widgets/controls",
      "_view_module_version": "1.5.0",
      "_view_name": "HTMLView",
      "description": "",
      "description_tooltip": null,
      "layout": "IPY_MODEL_b0ebb03b87574c889becc099c9f1f4bf",
      "placeholder": "​",
      "style": "IPY_MODEL_2c35fa729cc34ac7b02fc67612f275c7",
      "value": " 124/124 [00:00&lt;00:00, 4.62kB/s]"
     }
    },
    "eb0b1b5cdc4a4d618659a5e82d238fe4": {
     "model_module": "@jupyter-widgets/controls",
     "model_module_version": "1.5.0",
     "model_name": "FloatProgressModel",
     "state": {
      "_dom_classes": [],
      "_model_module": "@jupyter-widgets/controls",
      "_model_module_version": "1.5.0",
      "_model_name": "FloatProgressModel",
      "_view_count": null,
      "_view_module": "@jupyter-widgets/controls",
      "_view_module_version": "1.5.0",
      "_view_name": "ProgressView",
      "bar_style": "success",
      "description": "",
      "description_tooltip": null,
      "layout": "IPY_MODEL_9af6afcead684057adb693c2a6d4d320",
      "max": 456318,
      "min": 0,
      "orientation": "horizontal",
      "style": "IPY_MODEL_01af6b7122f94b9f92853de3f80a3aad",
      "value": 456318
     }
    },
    "ec9577bb1470481887712cf0bc3ff34e": {
     "model_module": "@jupyter-widgets/controls",
     "model_module_version": "1.5.0",
     "model_name": "HTMLModel",
     "state": {
      "_dom_classes": [],
      "_model_module": "@jupyter-widgets/controls",
      "_model_module_version": "1.5.0",
      "_model_name": "HTMLModel",
      "_view_count": null,
      "_view_module": "@jupyter-widgets/controls",
      "_view_module_version": "1.5.0",
      "_view_name": "HTMLView",
      "description": "",
      "description_tooltip": null,
      "layout": "IPY_MODEL_355b44689b6340c692c0969b73da9619",
      "placeholder": "​",
      "style": "IPY_MODEL_f5d7b0a960604cb8932dbd83881bc170",
      "value": "Downloading (…)olve/main/vocab.json: 100%"
     }
    },
    "f0d3ed603fde4fed9b4fac7727c8b5f1": {
     "model_module": "@jupyter-widgets/controls",
     "model_module_version": "1.5.0",
     "model_name": "ProgressStyleModel",
     "state": {
      "_model_module": "@jupyter-widgets/controls",
      "_model_module_version": "1.5.0",
      "_model_name": "ProgressStyleModel",
      "_view_count": null,
      "_view_module": "@jupyter-widgets/base",
      "_view_module_version": "1.2.0",
      "_view_name": "StyleView",
      "bar_color": null,
      "description_width": ""
     }
    },
    "f204e6ff280741adb9b95f74e8419c30": {
     "model_module": "@jupyter-widgets/controls",
     "model_module_version": "1.5.0",
     "model_name": "HTMLModel",
     "state": {
      "_dom_classes": [],
      "_model_module": "@jupyter-widgets/controls",
      "_model_module_version": "1.5.0",
      "_model_name": "HTMLModel",
      "_view_count": null,
      "_view_module": "@jupyter-widgets/controls",
      "_view_module_version": "1.5.0",
      "_view_name": "HTMLView",
      "description": "",
      "description_tooltip": null,
      "layout": "IPY_MODEL_5f0270c8749f40d08fde1a3d0cd5e3e0",
      "placeholder": "​",
      "style": "IPY_MODEL_0a0ec6e272714502af8b61fa11bd9e72",
      "value": "Downloading pytorch_model.bin: 100%"
     }
    },
    "f5d7b0a960604cb8932dbd83881bc170": {
     "model_module": "@jupyter-widgets/controls",
     "model_module_version": "1.5.0",
     "model_name": "DescriptionStyleModel",
     "state": {
      "_model_module": "@jupyter-widgets/controls",
      "_model_module_version": "1.5.0",
      "_model_name": "DescriptionStyleModel",
      "_view_count": null,
      "_view_module": "@jupyter-widgets/base",
      "_view_module_version": "1.2.0",
      "_view_name": "StyleView",
      "description_width": ""
     }
    },
    "fb43975c59904fb788a7be63f56168fd": {
     "model_module": "@jupyter-widgets/controls",
     "model_module_version": "1.5.0",
     "model_name": "DescriptionStyleModel",
     "state": {
      "_model_module": "@jupyter-widgets/controls",
      "_model_module_version": "1.5.0",
      "_model_name": "DescriptionStyleModel",
      "_view_count": null,
      "_view_module": "@jupyter-widgets/base",
      "_view_module_version": "1.2.0",
      "_view_name": "StyleView",
      "description_width": ""
     }
    },
    "ff1f06e2cb6540d7b176646ff8337428": {
     "model_module": "@jupyter-widgets/controls",
     "model_module_version": "1.5.0",
     "model_name": "DescriptionStyleModel",
     "state": {
      "_model_module": "@jupyter-widgets/controls",
      "_model_module_version": "1.5.0",
      "_model_name": "DescriptionStyleModel",
      "_view_count": null,
      "_view_module": "@jupyter-widgets/base",
      "_view_module_version": "1.2.0",
      "_view_name": "StyleView",
      "description_width": ""
     }
    }
   }
  }
 },
 "nbformat": 4,
 "nbformat_minor": 5
}
